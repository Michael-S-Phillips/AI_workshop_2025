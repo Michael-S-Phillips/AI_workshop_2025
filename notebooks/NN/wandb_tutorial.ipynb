{
 "cells": [
  {
   "cell_type": "markdown",
   "metadata": {},
   "source": [
    "# Introduction to Weights & Biases\n",
    "\n",
    "Weights & Biases (W&B) is a popular tool for tracking and visualizing machine learning experiments. W&B makes it easy to track model training, compare different experiments, and collaborate.\n",
    "\n",
    "```python\n",
    "# First, install the wandb library\n",
    "!pip install wandb\n",
    "```\n",
    "\n",
    "## 1. Setting Up Your W&B Account\n",
    "\n",
    "To use W&B, you'll need to create an account and set up your API key.\n",
    "\n",
    "[Weights & Biases](https://wandb.ai)"
   ]
  },
  {
   "cell_type": "code",
   "execution_count": 2,
   "metadata": {},
   "outputs": [
    {
     "name": "stderr",
     "output_type": "stream",
     "text": [
      "\u001b[34m\u001b[1mwandb\u001b[0m: Using wandb-core as the SDK backend. Please refer to https://wandb.me/wandb-core for more information.\n",
      "\u001b[34m\u001b[1mwandb\u001b[0m: Currently logged in as: \u001b[33mphillipsm\u001b[0m (\u001b[33mspace-imagery-center\u001b[0m). Use \u001b[1m`wandb login --relogin`\u001b[0m to force relogin\n"
     ]
    },
    {
     "data": {
      "text/plain": [
       "True"
      ]
     },
     "execution_count": 2,
     "metadata": {},
     "output_type": "execute_result"
    }
   ],
   "source": [
    "import wandb\n",
    "\n",
    "# Login to W&B - this will prompt you to create an account if you don't have one\n",
    "# You'll only need to do this once per machine\n",
    "wandb.login()"
   ]
  },
  {
   "cell_type": "markdown",
   "metadata": {},
   "source": [
    "## 2. Basic Experiment Tracking\n",
    "\n",
    "Track a simple experiment."
   ]
  },
  {
   "cell_type": "code",
   "execution_count": 3,
   "metadata": {},
   "outputs": [
    {
     "data": {
      "text/html": [
       "Tracking run with wandb version 0.18.5"
      ],
      "text/plain": [
       "<IPython.core.display.HTML object>"
      ]
     },
     "metadata": {},
     "output_type": "display_data"
    },
    {
     "data": {
      "text/html": [
       "Run data is saved locally in <code>/Users/phillipsm/Documents/Teaching/AI_in_PlanetaryXXX/Code/04_NN_Image_Classification/notebooks/wandb/run-20250402_102534-njije4cg</code>"
      ],
      "text/plain": [
       "<IPython.core.display.HTML object>"
      ]
     },
     "metadata": {},
     "output_type": "display_data"
    },
    {
     "data": {
      "text/html": [
       "Syncing run <strong><a href='https://wandb.ai/space-imagery-center/mars-surface-classification/runs/njije4cg' target=\"_blank\">rf_est50_depth10</a></strong> to <a href='https://wandb.ai/space-imagery-center/mars-surface-classification' target=\"_blank\">Weights & Biases</a> (<a href='https://wandb.me/run' target=\"_blank\">docs</a>)<br/>"
      ],
      "text/plain": [
       "<IPython.core.display.HTML object>"
      ]
     },
     "metadata": {},
     "output_type": "display_data"
    },
    {
     "data": {
      "text/html": [
       " View project at <a href='https://wandb.ai/space-imagery-center/mars-surface-classification' target=\"_blank\">https://wandb.ai/space-imagery-center/mars-surface-classification</a>"
      ],
      "text/plain": [
       "<IPython.core.display.HTML object>"
      ]
     },
     "metadata": {},
     "output_type": "display_data"
    },
    {
     "data": {
      "text/html": [
       " View run at <a href='https://wandb.ai/space-imagery-center/mars-surface-classification/runs/njije4cg' target=\"_blank\">https://wandb.ai/space-imagery-center/mars-surface-classification/runs/njije4cg</a>"
      ],
      "text/plain": [
       "<IPython.core.display.HTML object>"
      ]
     },
     "metadata": {},
     "output_type": "display_data"
    },
    {
     "data": {
      "text/html": [
       "<style>\n",
       "    table.wandb td:nth-child(1) { padding: 0 10px; text-align: left ; width: auto;} td:nth-child(2) {text-align: left ; width: 100%}\n",
       "    .wandb-row { display: flex; flex-direction: row; flex-wrap: wrap; justify-content: flex-start; width: 100% }\n",
       "    .wandb-col { display: flex; flex-direction: column; flex-basis: 100%; flex: 1; padding: 10px; }\n",
       "    </style>\n",
       "<div class=\"wandb-row\"><div class=\"wandb-col\"><h3>Run history:</h3><br/><table class=\"wandb\"><tr><td>accuracy</td><td>▁</td></tr><tr><td>feature_0_importance</td><td>▁</td></tr><tr><td>feature_10_importance</td><td>▁</td></tr><tr><td>feature_11_importance</td><td>▁</td></tr><tr><td>feature_12_importance</td><td>▁</td></tr><tr><td>feature_13_importance</td><td>▁</td></tr><tr><td>feature_14_importance</td><td>▁</td></tr><tr><td>feature_15_importance</td><td>▁</td></tr><tr><td>feature_16_importance</td><td>▁</td></tr><tr><td>feature_17_importance</td><td>▁</td></tr><tr><td>feature_18_importance</td><td>▁</td></tr><tr><td>feature_19_importance</td><td>▁</td></tr><tr><td>feature_1_importance</td><td>▁</td></tr><tr><td>feature_2_importance</td><td>▁</td></tr><tr><td>feature_3_importance</td><td>▁</td></tr><tr><td>feature_4_importance</td><td>▁</td></tr><tr><td>feature_5_importance</td><td>▁</td></tr><tr><td>feature_6_importance</td><td>▁</td></tr><tr><td>feature_7_importance</td><td>▁</td></tr><tr><td>feature_8_importance</td><td>▁</td></tr><tr><td>feature_9_importance</td><td>▁</td></tr></table><br/></div><div class=\"wandb-col\"><h3>Run summary:</h3><br/><table class=\"wandb\"><tr><td>accuracy</td><td>0.31</td></tr><tr><td>feature_0_importance</td><td>0.05957</td></tr><tr><td>feature_10_importance</td><td>0.04836</td></tr><tr><td>feature_11_importance</td><td>0.06014</td></tr><tr><td>feature_12_importance</td><td>0.0398</td></tr><tr><td>feature_13_importance</td><td>0.04356</td></tr><tr><td>feature_14_importance</td><td>0.05274</td></tr><tr><td>feature_15_importance</td><td>0.04813</td></tr><tr><td>feature_16_importance</td><td>0.04894</td></tr><tr><td>feature_17_importance</td><td>0.04185</td></tr><tr><td>feature_18_importance</td><td>0.05471</td></tr><tr><td>feature_19_importance</td><td>0.05089</td></tr><tr><td>feature_1_importance</td><td>0.04958</td></tr><tr><td>feature_2_importance</td><td>0.04571</td></tr><tr><td>feature_3_importance</td><td>0.04242</td></tr><tr><td>feature_4_importance</td><td>0.04972</td></tr><tr><td>feature_5_importance</td><td>0.06357</td></tr><tr><td>feature_6_importance</td><td>0.04567</td></tr><tr><td>feature_7_importance</td><td>0.04589</td></tr><tr><td>feature_8_importance</td><td>0.05609</td></tr><tr><td>feature_9_importance</td><td>0.05266</td></tr></table><br/></div></div>"
      ],
      "text/plain": [
       "<IPython.core.display.HTML object>"
      ]
     },
     "metadata": {},
     "output_type": "display_data"
    },
    {
     "data": {
      "text/html": [
       " View run <strong style=\"color:#cdcd00\">rf_est50_depth10</strong> at: <a href='https://wandb.ai/space-imagery-center/mars-surface-classification/runs/njije4cg' target=\"_blank\">https://wandb.ai/space-imagery-center/mars-surface-classification/runs/njije4cg</a><br/> View project at: <a href='https://wandb.ai/space-imagery-center/mars-surface-classification' target=\"_blank\">https://wandb.ai/space-imagery-center/mars-surface-classification</a><br/>Synced 5 W&B file(s), 0 media file(s), 2 artifact file(s) and 1 other file(s)"
      ],
      "text/plain": [
       "<IPython.core.display.HTML object>"
      ]
     },
     "metadata": {},
     "output_type": "display_data"
    },
    {
     "data": {
      "text/html": [
       "Find logs at: <code>./wandb/run-20250402_102534-njije4cg/logs</code>"
      ],
      "text/plain": [
       "<IPython.core.display.HTML object>"
      ]
     },
     "metadata": {},
     "output_type": "display_data"
    },
    {
     "data": {
      "text/html": [
       "Tracking run with wandb version 0.18.5"
      ],
      "text/plain": [
       "<IPython.core.display.HTML object>"
      ]
     },
     "metadata": {},
     "output_type": "display_data"
    },
    {
     "data": {
      "text/html": [
       "Run data is saved locally in <code>/Users/phillipsm/Documents/Teaching/AI_in_PlanetaryXXX/Code/04_NN_Image_Classification/notebooks/wandb/run-20250402_102538-3nwuqz8c</code>"
      ],
      "text/plain": [
       "<IPython.core.display.HTML object>"
      ]
     },
     "metadata": {},
     "output_type": "display_data"
    },
    {
     "data": {
      "text/html": [
       "Syncing run <strong><a href='https://wandb.ai/space-imagery-center/mars-surface-classification/runs/3nwuqz8c' target=\"_blank\">rf_est100_depth15</a></strong> to <a href='https://wandb.ai/space-imagery-center/mars-surface-classification' target=\"_blank\">Weights & Biases</a> (<a href='https://wandb.me/run' target=\"_blank\">docs</a>)<br/>"
      ],
      "text/plain": [
       "<IPython.core.display.HTML object>"
      ]
     },
     "metadata": {},
     "output_type": "display_data"
    },
    {
     "data": {
      "text/html": [
       " View project at <a href='https://wandb.ai/space-imagery-center/mars-surface-classification' target=\"_blank\">https://wandb.ai/space-imagery-center/mars-surface-classification</a>"
      ],
      "text/plain": [
       "<IPython.core.display.HTML object>"
      ]
     },
     "metadata": {},
     "output_type": "display_data"
    },
    {
     "data": {
      "text/html": [
       " View run at <a href='https://wandb.ai/space-imagery-center/mars-surface-classification/runs/3nwuqz8c' target=\"_blank\">https://wandb.ai/space-imagery-center/mars-surface-classification/runs/3nwuqz8c</a>"
      ],
      "text/plain": [
       "<IPython.core.display.HTML object>"
      ]
     },
     "metadata": {},
     "output_type": "display_data"
    },
    {
     "data": {
      "text/html": [
       "<style>\n",
       "    table.wandb td:nth-child(1) { padding: 0 10px; text-align: left ; width: auto;} td:nth-child(2) {text-align: left ; width: 100%}\n",
       "    .wandb-row { display: flex; flex-direction: row; flex-wrap: wrap; justify-content: flex-start; width: 100% }\n",
       "    .wandb-col { display: flex; flex-direction: column; flex-basis: 100%; flex: 1; padding: 10px; }\n",
       "    </style>\n",
       "<div class=\"wandb-row\"><div class=\"wandb-col\"><h3>Run history:</h3><br/><table class=\"wandb\"><tr><td>accuracy</td><td>▁</td></tr><tr><td>feature_0_importance</td><td>▁</td></tr><tr><td>feature_10_importance</td><td>▁</td></tr><tr><td>feature_11_importance</td><td>▁</td></tr><tr><td>feature_12_importance</td><td>▁</td></tr><tr><td>feature_13_importance</td><td>▁</td></tr><tr><td>feature_14_importance</td><td>▁</td></tr><tr><td>feature_15_importance</td><td>▁</td></tr><tr><td>feature_16_importance</td><td>▁</td></tr><tr><td>feature_17_importance</td><td>▁</td></tr><tr><td>feature_18_importance</td><td>▁</td></tr><tr><td>feature_19_importance</td><td>▁</td></tr><tr><td>feature_1_importance</td><td>▁</td></tr><tr><td>feature_2_importance</td><td>▁</td></tr><tr><td>feature_3_importance</td><td>▁</td></tr><tr><td>feature_4_importance</td><td>▁</td></tr><tr><td>feature_5_importance</td><td>▁</td></tr><tr><td>feature_6_importance</td><td>▁</td></tr><tr><td>feature_7_importance</td><td>▁</td></tr><tr><td>feature_8_importance</td><td>▁</td></tr><tr><td>feature_9_importance</td><td>▁</td></tr></table><br/></div><div class=\"wandb-col\"><h3>Run summary:</h3><br/><table class=\"wandb\"><tr><td>accuracy</td><td>0.195</td></tr><tr><td>feature_0_importance</td><td>0.05143</td></tr><tr><td>feature_10_importance</td><td>0.05054</td></tr><tr><td>feature_11_importance</td><td>0.0595</td></tr><tr><td>feature_12_importance</td><td>0.04676</td></tr><tr><td>feature_13_importance</td><td>0.0491</td></tr><tr><td>feature_14_importance</td><td>0.04554</td></tr><tr><td>feature_15_importance</td><td>0.05008</td></tr><tr><td>feature_16_importance</td><td>0.05126</td></tr><tr><td>feature_17_importance</td><td>0.04952</td></tr><tr><td>feature_18_importance</td><td>0.04969</td></tr><tr><td>feature_19_importance</td><td>0.05389</td></tr><tr><td>feature_1_importance</td><td>0.05206</td></tr><tr><td>feature_2_importance</td><td>0.05147</td></tr><tr><td>feature_3_importance</td><td>0.04848</td></tr><tr><td>feature_4_importance</td><td>0.04785</td></tr><tr><td>feature_5_importance</td><td>0.05178</td></tr><tr><td>feature_6_importance</td><td>0.04646</td></tr><tr><td>feature_7_importance</td><td>0.04755</td></tr><tr><td>feature_8_importance</td><td>0.05151</td></tr><tr><td>feature_9_importance</td><td>0.04552</td></tr></table><br/></div></div>"
      ],
      "text/plain": [
       "<IPython.core.display.HTML object>"
      ]
     },
     "metadata": {},
     "output_type": "display_data"
    },
    {
     "data": {
      "text/html": [
       " View run <strong style=\"color:#cdcd00\">rf_est100_depth15</strong> at: <a href='https://wandb.ai/space-imagery-center/mars-surface-classification/runs/3nwuqz8c' target=\"_blank\">https://wandb.ai/space-imagery-center/mars-surface-classification/runs/3nwuqz8c</a><br/> View project at: <a href='https://wandb.ai/space-imagery-center/mars-surface-classification' target=\"_blank\">https://wandb.ai/space-imagery-center/mars-surface-classification</a><br/>Synced 5 W&B file(s), 0 media file(s), 0 artifact file(s) and 1 other file(s)"
      ],
      "text/plain": [
       "<IPython.core.display.HTML object>"
      ]
     },
     "metadata": {},
     "output_type": "display_data"
    },
    {
     "data": {
      "text/html": [
       "Find logs at: <code>./wandb/run-20250402_102538-3nwuqz8c/logs</code>"
      ],
      "text/plain": [
       "<IPython.core.display.HTML object>"
      ]
     },
     "metadata": {},
     "output_type": "display_data"
    },
    {
     "data": {
      "text/html": [
       "Tracking run with wandb version 0.18.5"
      ],
      "text/plain": [
       "<IPython.core.display.HTML object>"
      ]
     },
     "metadata": {},
     "output_type": "display_data"
    },
    {
     "data": {
      "text/html": [
       "Run data is saved locally in <code>/Users/phillipsm/Documents/Teaching/AI_in_PlanetaryXXX/Code/04_NN_Image_Classification/notebooks/wandb/run-20250402_102540-bk6nsm0z</code>"
      ],
      "text/plain": [
       "<IPython.core.display.HTML object>"
      ]
     },
     "metadata": {},
     "output_type": "display_data"
    },
    {
     "data": {
      "text/html": [
       "Syncing run <strong><a href='https://wandb.ai/space-imagery-center/mars-surface-classification/runs/bk6nsm0z' target=\"_blank\">rf_est200_depth20</a></strong> to <a href='https://wandb.ai/space-imagery-center/mars-surface-classification' target=\"_blank\">Weights & Biases</a> (<a href='https://wandb.me/run' target=\"_blank\">docs</a>)<br/>"
      ],
      "text/plain": [
       "<IPython.core.display.HTML object>"
      ]
     },
     "metadata": {},
     "output_type": "display_data"
    },
    {
     "data": {
      "text/html": [
       " View project at <a href='https://wandb.ai/space-imagery-center/mars-surface-classification' target=\"_blank\">https://wandb.ai/space-imagery-center/mars-surface-classification</a>"
      ],
      "text/plain": [
       "<IPython.core.display.HTML object>"
      ]
     },
     "metadata": {},
     "output_type": "display_data"
    },
    {
     "data": {
      "text/html": [
       " View run at <a href='https://wandb.ai/space-imagery-center/mars-surface-classification/runs/bk6nsm0z' target=\"_blank\">https://wandb.ai/space-imagery-center/mars-surface-classification/runs/bk6nsm0z</a>"
      ],
      "text/plain": [
       "<IPython.core.display.HTML object>"
      ]
     },
     "metadata": {},
     "output_type": "display_data"
    },
    {
     "data": {
      "text/html": [
       "<style>\n",
       "    table.wandb td:nth-child(1) { padding: 0 10px; text-align: left ; width: auto;} td:nth-child(2) {text-align: left ; width: 100%}\n",
       "    .wandb-row { display: flex; flex-direction: row; flex-wrap: wrap; justify-content: flex-start; width: 100% }\n",
       "    .wandb-col { display: flex; flex-direction: column; flex-basis: 100%; flex: 1; padding: 10px; }\n",
       "    </style>\n",
       "<div class=\"wandb-row\"><div class=\"wandb-col\"><h3>Run history:</h3><br/><table class=\"wandb\"><tr><td>accuracy</td><td>▁</td></tr><tr><td>feature_0_importance</td><td>▁</td></tr><tr><td>feature_10_importance</td><td>▁</td></tr><tr><td>feature_11_importance</td><td>▁</td></tr><tr><td>feature_12_importance</td><td>▁</td></tr><tr><td>feature_13_importance</td><td>▁</td></tr><tr><td>feature_14_importance</td><td>▁</td></tr><tr><td>feature_15_importance</td><td>▁</td></tr><tr><td>feature_16_importance</td><td>▁</td></tr><tr><td>feature_17_importance</td><td>▁</td></tr><tr><td>feature_18_importance</td><td>▁</td></tr><tr><td>feature_19_importance</td><td>▁</td></tr><tr><td>feature_1_importance</td><td>▁</td></tr><tr><td>feature_2_importance</td><td>▁</td></tr><tr><td>feature_3_importance</td><td>▁</td></tr><tr><td>feature_4_importance</td><td>▁</td></tr><tr><td>feature_5_importance</td><td>▁</td></tr><tr><td>feature_6_importance</td><td>▁</td></tr><tr><td>feature_7_importance</td><td>▁</td></tr><tr><td>feature_8_importance</td><td>▁</td></tr><tr><td>feature_9_importance</td><td>▁</td></tr></table><br/></div><div class=\"wandb-col\"><h3>Run summary:</h3><br/><table class=\"wandb\"><tr><td>accuracy</td><td>0.25</td></tr><tr><td>feature_0_importance</td><td>0.04776</td></tr><tr><td>feature_10_importance</td><td>0.05017</td></tr><tr><td>feature_11_importance</td><td>0.05045</td></tr><tr><td>feature_12_importance</td><td>0.05474</td></tr><tr><td>feature_13_importance</td><td>0.05013</td></tr><tr><td>feature_14_importance</td><td>0.04762</td></tr><tr><td>feature_15_importance</td><td>0.05421</td></tr><tr><td>feature_16_importance</td><td>0.04922</td></tr><tr><td>feature_17_importance</td><td>0.05094</td></tr><tr><td>feature_18_importance</td><td>0.05026</td></tr><tr><td>feature_19_importance</td><td>0.05336</td></tr><tr><td>feature_1_importance</td><td>0.04954</td></tr><tr><td>feature_2_importance</td><td>0.04957</td></tr><tr><td>feature_3_importance</td><td>0.04864</td></tr><tr><td>feature_4_importance</td><td>0.04857</td></tr><tr><td>feature_5_importance</td><td>0.05143</td></tr><tr><td>feature_6_importance</td><td>0.04856</td></tr><tr><td>feature_7_importance</td><td>0.04808</td></tr><tr><td>feature_8_importance</td><td>0.04882</td></tr><tr><td>feature_9_importance</td><td>0.04794</td></tr></table><br/></div></div>"
      ],
      "text/plain": [
       "<IPython.core.display.HTML object>"
      ]
     },
     "metadata": {},
     "output_type": "display_data"
    },
    {
     "data": {
      "text/html": [
       " View run <strong style=\"color:#cdcd00\">rf_est200_depth20</strong> at: <a href='https://wandb.ai/space-imagery-center/mars-surface-classification/runs/bk6nsm0z' target=\"_blank\">https://wandb.ai/space-imagery-center/mars-surface-classification/runs/bk6nsm0z</a><br/> View project at: <a href='https://wandb.ai/space-imagery-center/mars-surface-classification' target=\"_blank\">https://wandb.ai/space-imagery-center/mars-surface-classification</a><br/>Synced 5 W&B file(s), 0 media file(s), 0 artifact file(s) and 1 other file(s)"
      ],
      "text/plain": [
       "<IPython.core.display.HTML object>"
      ]
     },
     "metadata": {},
     "output_type": "display_data"
    },
    {
     "data": {
      "text/html": [
       "Find logs at: <code>./wandb/run-20250402_102540-bk6nsm0z/logs</code>"
      ],
      "text/plain": [
       "<IPython.core.display.HTML object>"
      ]
     },
     "metadata": {},
     "output_type": "display_data"
    }
   ],
   "source": [
    "import numpy as np\n",
    "import matplotlib.pyplot as plt\n",
    "from sklearn.model_selection import train_test_split\n",
    "from sklearn.ensemble import RandomForestClassifier\n",
    "from sklearn.metrics import accuracy_score, confusion_matrix\n",
    "\n",
    "# Create a simple experiment\n",
    "def run_experiment(n_estimators, max_depth):\n",
    "    # Initialize a W&B run\n",
    "    run = wandb.init(\n",
    "        project=\"mars-surface-classification\",  # Project name\n",
    "        name=f\"rf_est{n_estimators}_depth{max_depth}\",  # Run name\n",
    "        config={  # Configuration parameters\n",
    "            \"n_estimators\": n_estimators,\n",
    "            \"max_depth\": max_depth,\n",
    "            \"dataset\": \"mars_surface_v1\",\n",
    "            \"model_type\": \"random_forest\"\n",
    "        }\n",
    "    )\n",
    "    \n",
    "    # Simulate loading a dataset\n",
    "    # In a real scenario, you'd load your planetary science data here\n",
    "    X = np.random.rand(1000, 20)  # 20 features (e.g., spectral bands)\n",
    "    y = np.random.randint(0, 4, 1000)  # 4 classes (e.g., different surface types)\n",
    "    \n",
    "    # Split data\n",
    "    X_train, X_test, y_train, y_test = train_test_split(X, y, test_size=0.2, random_state=42)\n",
    "    \n",
    "    # Train model\n",
    "    model = RandomForestClassifier(n_estimators=n_estimators, max_depth=max_depth, random_state=42)\n",
    "    model.fit(X_train, y_train)\n",
    "    \n",
    "    # Evaluate\n",
    "    y_pred = model.predict(X_test)\n",
    "    accuracy = accuracy_score(y_test, y_pred)\n",
    "    \n",
    "    # Log metrics to W&B\n",
    "    wandb.log({\"accuracy\": accuracy})\n",
    "    \n",
    "    # Log feature importances\n",
    "    feature_importance = {f\"feature_{i}_importance\": imp for i, imp in enumerate(model.feature_importances_)}\n",
    "    wandb.log(feature_importance)\n",
    "    \n",
    "    # Create and log confusion matrix\n",
    "    cm = confusion_matrix(y_test, y_pred)\n",
    "    fig, ax = plt.subplots(figsize=(8, 8))\n",
    "    im = ax.imshow(cm, cmap='Blues')\n",
    "    ax.set_title('Confusion Matrix')\n",
    "    ax.set_xlabel('Predicted label')\n",
    "    ax.set_ylabel('True label')\n",
    "    plt.colorbar(im)\n",
    "    \n",
    "    # Add value annotations to the confusion matrix\n",
    "    for i in range(cm.shape[0]):\n",
    "        for j in range(cm.shape[1]):\n",
    "            ax.text(j, i, cm[i, j], ha='center', va='center')\n",
    "    \n",
    "    # Log the confusion matrix image\n",
    "    wandb.log({\"confusion_matrix\": wandb.Image(fig)})\n",
    "    plt.close()\n",
    "    \n",
    "    # Finish the run\n",
    "    run.finish()\n",
    "\n",
    "# Run experiments with different parameters\n",
    "run_experiment(n_estimators=50, max_depth=10)\n",
    "run_experiment(n_estimators=100, max_depth=15)\n",
    "run_experiment(n_estimators=200, max_depth=20)"
   ]
  },
  {
   "cell_type": "markdown",
   "metadata": {},
   "source": [
    "## 3. More Experiment Tracking\n",
    "\n",
    "Additional example of how to track experiments."
   ]
  },
  {
   "cell_type": "code",
   "execution_count": 3,
   "metadata": {},
   "outputs": [
    {
     "data": {
      "text/html": [
       "Tracking run with wandb version 0.18.5"
      ],
      "text/plain": [
       "<IPython.core.display.HTML object>"
      ]
     },
     "metadata": {},
     "output_type": "display_data"
    },
    {
     "data": {
      "text/html": [
       "Run data is saved locally in <code>/Users/phillipsm/Documents/Teaching/AI_in_PlanetaryXXX/Code/04_NN_Image_Classification/notebooks/wandb/run-20250402_092424-2sm4og5w</code>"
      ],
      "text/plain": [
       "<IPython.core.display.HTML object>"
      ]
     },
     "metadata": {},
     "output_type": "display_data"
    },
    {
     "data": {
      "text/html": [
       "Syncing run <strong><a href='https://wandb.ai/space-imagery-center/mars-spectra-analysis/runs/2sm4og5w' target=\"_blank\">cnn_lr0.01</a></strong> to <a href='https://wandb.ai/space-imagery-center/mars-spectra-analysis' target=\"_blank\">Weights & Biases</a> (<a href='https://wandb.me/run' target=\"_blank\">docs</a>)<br/>"
      ],
      "text/plain": [
       "<IPython.core.display.HTML object>"
      ]
     },
     "metadata": {},
     "output_type": "display_data"
    },
    {
     "data": {
      "text/html": [
       " View project at <a href='https://wandb.ai/space-imagery-center/mars-spectra-analysis' target=\"_blank\">https://wandb.ai/space-imagery-center/mars-spectra-analysis</a>"
      ],
      "text/plain": [
       "<IPython.core.display.HTML object>"
      ]
     },
     "metadata": {},
     "output_type": "display_data"
    },
    {
     "data": {
      "text/html": [
       " View run at <a href='https://wandb.ai/space-imagery-center/mars-spectra-analysis/runs/2sm4og5w' target=\"_blank\">https://wandb.ai/space-imagery-center/mars-spectra-analysis/runs/2sm4og5w</a>"
      ],
      "text/plain": [
       "<IPython.core.display.HTML object>"
      ]
     },
     "metadata": {},
     "output_type": "display_data"
    },
    {
     "data": {
      "application/vnd.jupyter.widget-view+json": {
       "model_id": "aa2565f9310b4befbf0d8813f1bedad1",
       "version_major": 2,
       "version_minor": 0
      },
      "text/plain": [
       "VBox(children=(Label(value='0.029 MB of 0.029 MB uploaded\\r'), FloatProgress(value=1.0, max=1.0)))"
      ]
     },
     "metadata": {},
     "output_type": "display_data"
    },
    {
     "data": {
      "text/html": [
       "<style>\n",
       "    table.wandb td:nth-child(1) { padding: 0 10px; text-align: left ; width: auto;} td:nth-child(2) {text-align: left ; width: 100%}\n",
       "    .wandb-row { display: flex; flex-direction: row; flex-wrap: wrap; justify-content: flex-start; width: 100% }\n",
       "    .wandb-col { display: flex; flex-direction: column; flex-basis: 100%; flex: 1; padding: 10px; }\n",
       "    </style>\n",
       "<div class=\"wandb-row\"><div class=\"wandb-col\"><h3>Run history:</h3><br/><table class=\"wandb\"><tr><td>accuracy</td><td>▂▁▂▃▃▃▄▄▅▅▅▅▆▅▅▆▇▇▇▇▇▇▇▇▇▇▇▇▇████▇█▇█▇▇█</td></tr><tr><td>epoch</td><td>▁▁▁▁▂▂▂▂▂▂▃▃▃▃▃▄▄▄▄▄▅▅▅▅▅▆▆▆▆▆▆▇▇▇▇▇▇███</td></tr><tr><td>train_loss</td><td>███▆▆▅▆▅▅▅▅▅▄▄▃▃▃▃▃▃▂▂▂▂▂▂▂▂▂▁▂▂▂▁▁▁▂▁▁▁</td></tr><tr><td>val_loss</td><td>▇██▆█▆▆▆▅▅▆▆▆▅▄▅▄▅▅▃▄▃▄▄▂▂▂▃▂▂▂▂▂▂▂▂▂▁▁▂</td></tr></table><br/></div><div class=\"wandb-col\"><h3>Run summary:</h3><br/><table class=\"wandb\"><tr><td>accuracy</td><td>0.92626</td></tr><tr><td>epoch</td><td>49</td></tr><tr><td>train_loss</td><td>0.1395</td></tr><tr><td>val_loss</td><td>0.33682</td></tr></table><br/></div></div>"
      ],
      "text/plain": [
       "<IPython.core.display.HTML object>"
      ]
     },
     "metadata": {},
     "output_type": "display_data"
    },
    {
     "data": {
      "text/html": [
       " View run <strong style=\"color:#cdcd00\">cnn_lr0.01</strong> at: <a href='https://wandb.ai/space-imagery-center/mars-spectra-analysis/runs/2sm4og5w' target=\"_blank\">https://wandb.ai/space-imagery-center/mars-spectra-analysis/runs/2sm4og5w</a><br/> View project at: <a href='https://wandb.ai/space-imagery-center/mars-spectra-analysis' target=\"_blank\">https://wandb.ai/space-imagery-center/mars-spectra-analysis</a><br/>Synced 4 W&B file(s), 0 media file(s), 4 artifact file(s) and 1 other file(s)"
      ],
      "text/plain": [
       "<IPython.core.display.HTML object>"
      ]
     },
     "metadata": {},
     "output_type": "display_data"
    },
    {
     "data": {
      "text/html": [
       "Find logs at: <code>./wandb/run-20250402_092424-2sm4og5w/logs</code>"
      ],
      "text/plain": [
       "<IPython.core.display.HTML object>"
      ]
     },
     "metadata": {},
     "output_type": "display_data"
    },
    {
     "data": {
      "text/html": [
       "Tracking run with wandb version 0.18.5"
      ],
      "text/plain": [
       "<IPython.core.display.HTML object>"
      ]
     },
     "metadata": {},
     "output_type": "display_data"
    },
    {
     "data": {
      "text/html": [
       "Run data is saved locally in <code>/Users/phillipsm/Documents/Teaching/AI_in_PlanetaryXXX/Code/04_NN_Image_Classification/notebooks/wandb/run-20250402_092429-u01k19f5</code>"
      ],
      "text/plain": [
       "<IPython.core.display.HTML object>"
      ]
     },
     "metadata": {},
     "output_type": "display_data"
    },
    {
     "data": {
      "text/html": [
       "Syncing run <strong><a href='https://wandb.ai/space-imagery-center/mars-spectra-analysis/runs/u01k19f5' target=\"_blank\">transformer_lr0.001</a></strong> to <a href='https://wandb.ai/space-imagery-center/mars-spectra-analysis' target=\"_blank\">Weights & Biases</a> (<a href='https://wandb.me/run' target=\"_blank\">docs</a>)<br/>"
      ],
      "text/plain": [
       "<IPython.core.display.HTML object>"
      ]
     },
     "metadata": {},
     "output_type": "display_data"
    },
    {
     "data": {
      "text/html": [
       " View project at <a href='https://wandb.ai/space-imagery-center/mars-spectra-analysis' target=\"_blank\">https://wandb.ai/space-imagery-center/mars-spectra-analysis</a>"
      ],
      "text/plain": [
       "<IPython.core.display.HTML object>"
      ]
     },
     "metadata": {},
     "output_type": "display_data"
    },
    {
     "data": {
      "text/html": [
       " View run at <a href='https://wandb.ai/space-imagery-center/mars-spectra-analysis/runs/u01k19f5' target=\"_blank\">https://wandb.ai/space-imagery-center/mars-spectra-analysis/runs/u01k19f5</a>"
      ],
      "text/plain": [
       "<IPython.core.display.HTML object>"
      ]
     },
     "metadata": {},
     "output_type": "display_data"
    },
    {
     "data": {
      "application/vnd.jupyter.widget-view+json": {
       "model_id": "3c92f6d9993c42a1b9d1804a9b1268e1",
       "version_major": 2,
       "version_minor": 0
      },
      "text/plain": [
       "VBox(children=(Label(value='0.030 MB of 0.030 MB uploaded\\r'), FloatProgress(value=1.0, max=1.0)))"
      ]
     },
     "metadata": {},
     "output_type": "display_data"
    },
    {
     "data": {
      "text/html": [
       "<style>\n",
       "    table.wandb td:nth-child(1) { padding: 0 10px; text-align: left ; width: auto;} td:nth-child(2) {text-align: left ; width: 100%}\n",
       "    .wandb-row { display: flex; flex-direction: row; flex-wrap: wrap; justify-content: flex-start; width: 100% }\n",
       "    .wandb-col { display: flex; flex-direction: column; flex-basis: 100%; flex: 1; padding: 10px; }\n",
       "    </style>\n",
       "<div class=\"wandb-row\"><div class=\"wandb-col\"><h3>Run history:</h3><br/><table class=\"wandb\"><tr><td>accuracy</td><td>▁▂▂▂▃▄▃▃▅▅▆▆▅▅▆▆▆▆▆▇▆▆▆▆▆▇▆██▆▇█▇▆▇▆▇▇█▇</td></tr><tr><td>epoch</td><td>▁▁▁▁▂▂▂▂▂▃▃▃▃▃▃▄▄▄▄▄▅▅▅▅▅▅▆▆▆▆▆▆▇▇▇▇▇███</td></tr><tr><td>train_loss</td><td>██▇▇▇▆▆▅▆▅▄▅▄▄▄▃▃▃▃▃▃▃▂▃▃▂▂▂▂▂▂▁▁▁▁▂▁▁▂▂</td></tr><tr><td>val_loss</td><td>█▇█▇▆▆▆▆▅▅▄▅▅▅▄▄▃▄▃▄▄▄▃▃▃▃▂▃▃▂▃▁▂▂▂▁▂▂▂▂</td></tr></table><br/></div><div class=\"wandb-col\"><h3>Run summary:</h3><br/><table class=\"wandb\"><tr><td>accuracy</td><td>0.91885</td></tr><tr><td>epoch</td><td>49</td></tr><tr><td>train_loss</td><td>0.15912</td></tr><tr><td>val_loss</td><td>0.34748</td></tr></table><br/></div></div>"
      ],
      "text/plain": [
       "<IPython.core.display.HTML object>"
      ]
     },
     "metadata": {},
     "output_type": "display_data"
    },
    {
     "data": {
      "text/html": [
       " View run <strong style=\"color:#cdcd00\">transformer_lr0.001</strong> at: <a href='https://wandb.ai/space-imagery-center/mars-spectra-analysis/runs/u01k19f5' target=\"_blank\">https://wandb.ai/space-imagery-center/mars-spectra-analysis/runs/u01k19f5</a><br/> View project at: <a href='https://wandb.ai/space-imagery-center/mars-spectra-analysis' target=\"_blank\">https://wandb.ai/space-imagery-center/mars-spectra-analysis</a><br/>Synced 5 W&B file(s), 0 media file(s), 1 artifact file(s) and 1 other file(s)"
      ],
      "text/plain": [
       "<IPython.core.display.HTML object>"
      ]
     },
     "metadata": {},
     "output_type": "display_data"
    },
    {
     "data": {
      "text/html": [
       "Find logs at: <code>./wandb/run-20250402_092429-u01k19f5/logs</code>"
      ],
      "text/plain": [
       "<IPython.core.display.HTML object>"
      ]
     },
     "metadata": {},
     "output_type": "display_data"
    }
   ],
   "source": [
    "def mars_experiment(model_type, learning_rate=0.01):\n",
    "    # Initialize run with more metadata relevant to planetary science\n",
    "    run = wandb.init(\n",
    "        project=\"mars-spectra-analysis\",\n",
    "        name=f\"{model_type}_lr{learning_rate}\",\n",
    "        config={\n",
    "            \"model_type\": model_type,\n",
    "            \"learning_rate\": learning_rate,\n",
    "            \"dataset\": \"mars_curiosity_spectra\",\n",
    "            \"bands\": \"visible_to_near_infrared\",\n",
    "            \"preprocessing\": \"normalized_reflectance\",\n",
    "            \"target\": \"mineral_classification\"\n",
    "        }\n",
    "    )\n",
    "    \n",
    "    # In a real scenario, you'd load real Mars spectral data here\n",
    "    # For this example, we'll simulate training progress\n",
    "    \n",
    "    epochs = 50\n",
    "    for epoch in range(epochs):\n",
    "        # Simulate training metrics\n",
    "        train_loss = 0.8 * np.exp(-0.05 * epoch) + 0.1 * np.random.rand()\n",
    "        val_loss = 0.9 * np.exp(-0.03 * epoch) + 0.2 * np.random.rand()\n",
    "        accuracy = 0.7 + 0.2 * (1 - np.exp(-0.07 * epoch)) + 0.05 * np.random.rand()\n",
    "        \n",
    "        # Log metrics per epoch\n",
    "        wandb.log({\n",
    "            \"epoch\": epoch,\n",
    "            \"train_loss\": train_loss,\n",
    "            \"val_loss\": val_loss,\n",
    "            \"accuracy\": accuracy\n",
    "        })\n",
    "    \n",
    "    # Log a sample prediction image (simulated)\n",
    "    fig, ax = plt.subplots(1, 2, figsize=(12, 5))\n",
    "    \n",
    "    # Ground truth (simulated mineral map)\n",
    "    mineral_map = np.random.randint(0, 5, (50, 50))\n",
    "    ax[0].imshow(mineral_map, cmap='viridis')\n",
    "    ax[0].set_title('Ground Truth')\n",
    "    \n",
    "    # Prediction (slightly perturbed)\n",
    "    prediction = mineral_map.copy()\n",
    "    mask = np.random.rand(50, 50) < 0.2\n",
    "    prediction[mask] = np.random.randint(0, 5, size=np.sum(mask))\n",
    "    ax[1].imshow(prediction, cmap='viridis')\n",
    "    ax[1].set_title('Model Prediction')\n",
    "    \n",
    "    plt.tight_layout()\n",
    "    wandb.log({\"mineral_map_comparison\": wandb.Image(fig)})\n",
    "    plt.close()\n",
    "    \n",
    "    # Log artifact (model file) - in a real scenario you'd save an actual model\n",
    "    model_artifact = wandb.Artifact(\n",
    "        name=f\"{model_type}-model\", \n",
    "        type=\"model\",\n",
    "        description=f\"Trained {model_type} model for Mars mineral classification\"\n",
    "    )\n",
    "    # model_artifact.add_file(\"model.pkl\")  # In a real scenario\n",
    "    \n",
    "    # Log the artifact to the run\n",
    "    run.log_artifact(model_artifact)\n",
    "    \n",
    "    run.finish()\n",
    "\n",
    "# Run experiments with different model types\n",
    "mars_experiment(\"cnn\")\n",
    "mars_experiment(\"transformer\", learning_rate=0.001)"
   ]
  },
  {
   "cell_type": "markdown",
   "metadata": {},
   "source": [
    "## 4. Hyperparameter Sweeps\n",
    "\n",
    "One of the most powerful features of W&B is the ability to run hyperparameter sweeps. This helps you find the best parameters for your model."
   ]
  },
  {
   "cell_type": "code",
   "execution_count": 5,
   "metadata": {},
   "outputs": [
    {
     "name": "stdout",
     "output_type": "stream",
     "text": [
      "Create sweep with ID: cjg4hivq\n",
      "Sweep URL: https://wandb.ai/space-imagery-center/mars-crater-detection-sweep/sweeps/cjg4hivq\n"
     ]
    },
    {
     "name": "stderr",
     "output_type": "stream",
     "text": [
      "\u001b[34m\u001b[1mwandb\u001b[0m: Agent Starting Run: ylxiev8t with config:\n",
      "\u001b[34m\u001b[1mwandb\u001b[0m: \tmax_depth: 13\n",
      "\u001b[34m\u001b[1mwandb\u001b[0m: \tmin_samples_split: 5\n",
      "\u001b[34m\u001b[1mwandb\u001b[0m: \tn_estimators: 10\n"
     ]
    },
    {
     "data": {
      "text/html": [
       "Tracking run with wandb version 0.18.5"
      ],
      "text/plain": [
       "<IPython.core.display.HTML object>"
      ]
     },
     "metadata": {},
     "output_type": "display_data"
    },
    {
     "data": {
      "text/html": [
       "Run data is saved locally in <code>/Users/phillipsm/Documents/Teaching/AI_in_PlanetaryXXX/Code/04_NN_Image_Classification/notebooks/wandb/run-20250402_092751-ylxiev8t</code>"
      ],
      "text/plain": [
       "<IPython.core.display.HTML object>"
      ]
     },
     "metadata": {},
     "output_type": "display_data"
    },
    {
     "data": {
      "text/html": [
       "Syncing run <strong><a href='https://wandb.ai/space-imagery-center/mars-crater-detection-sweep/runs/ylxiev8t' target=\"_blank\">classic-sweep-1</a></strong> to <a href='https://wandb.ai/space-imagery-center/mars-crater-detection-sweep' target=\"_blank\">Weights & Biases</a> (<a href='https://wandb.me/run' target=\"_blank\">docs</a>)<br/>Sweep page: <a href='https://wandb.ai/space-imagery-center/mars-crater-detection-sweep/sweeps/cjg4hivq' target=\"_blank\">https://wandb.ai/space-imagery-center/mars-crater-detection-sweep/sweeps/cjg4hivq</a>"
      ],
      "text/plain": [
       "<IPython.core.display.HTML object>"
      ]
     },
     "metadata": {},
     "output_type": "display_data"
    },
    {
     "data": {
      "text/html": [
       " View project at <a href='https://wandb.ai/space-imagery-center/mars-crater-detection-sweep' target=\"_blank\">https://wandb.ai/space-imagery-center/mars-crater-detection-sweep</a>"
      ],
      "text/plain": [
       "<IPython.core.display.HTML object>"
      ]
     },
     "metadata": {},
     "output_type": "display_data"
    },
    {
     "data": {
      "text/html": [
       " View sweep at <a href='https://wandb.ai/space-imagery-center/mars-crater-detection-sweep/sweeps/cjg4hivq' target=\"_blank\">https://wandb.ai/space-imagery-center/mars-crater-detection-sweep/sweeps/cjg4hivq</a>"
      ],
      "text/plain": [
       "<IPython.core.display.HTML object>"
      ]
     },
     "metadata": {},
     "output_type": "display_data"
    },
    {
     "data": {
      "text/html": [
       " View run at <a href='https://wandb.ai/space-imagery-center/mars-crater-detection-sweep/runs/ylxiev8t' target=\"_blank\">https://wandb.ai/space-imagery-center/mars-crater-detection-sweep/runs/ylxiev8t</a>"
      ],
      "text/plain": [
       "<IPython.core.display.HTML object>"
      ]
     },
     "metadata": {},
     "output_type": "display_data"
    },
    {
     "data": {
      "application/vnd.jupyter.widget-view+json": {
       "model_id": "9f10452b9b504a1d94576e0aed6d4b9d",
       "version_major": 2,
       "version_minor": 0
      },
      "text/plain": [
       "VBox(children=(Label(value='0.005 MB of 0.005 MB uploaded\\r'), FloatProgress(value=1.0, max=1.0)))"
      ]
     },
     "metadata": {},
     "output_type": "display_data"
    },
    {
     "data": {
      "text/html": [
       "<style>\n",
       "    table.wandb td:nth-child(1) { padding: 0 10px; text-align: left ; width: auto;} td:nth-child(2) {text-align: left ; width: 100%}\n",
       "    .wandb-row { display: flex; flex-direction: row; flex-wrap: wrap; justify-content: flex-start; width: 100% }\n",
       "    .wandb-col { display: flex; flex-direction: column; flex-basis: 100%; flex: 1; padding: 10px; }\n",
       "    </style>\n",
       "<div class=\"wandb-row\"><div class=\"wandb-col\"><h3>Run history:</h3><br/><table class=\"wandb\"><tr><td>accuracy</td><td>▁</td></tr></table><br/></div><div class=\"wandb-col\"><h3>Run summary:</h3><br/><table class=\"wandb\"><tr><td>accuracy</td><td>0.355</td></tr></table><br/></div></div>"
      ],
      "text/plain": [
       "<IPython.core.display.HTML object>"
      ]
     },
     "metadata": {},
     "output_type": "display_data"
    },
    {
     "data": {
      "text/html": [
       " View run <strong style=\"color:#cdcd00\">classic-sweep-1</strong> at: <a href='https://wandb.ai/space-imagery-center/mars-crater-detection-sweep/runs/ylxiev8t' target=\"_blank\">https://wandb.ai/space-imagery-center/mars-crater-detection-sweep/runs/ylxiev8t</a><br/> View project at: <a href='https://wandb.ai/space-imagery-center/mars-crater-detection-sweep' target=\"_blank\">https://wandb.ai/space-imagery-center/mars-crater-detection-sweep</a><br/>Synced 4 W&B file(s), 0 media file(s), 3 artifact file(s) and 0 other file(s)"
      ],
      "text/plain": [
       "<IPython.core.display.HTML object>"
      ]
     },
     "metadata": {},
     "output_type": "display_data"
    },
    {
     "data": {
      "text/html": [
       "Find logs at: <code>./wandb/run-20250402_092751-ylxiev8t/logs</code>"
      ],
      "text/plain": [
       "<IPython.core.display.HTML object>"
      ]
     },
     "metadata": {},
     "output_type": "display_data"
    },
    {
     "name": "stderr",
     "output_type": "stream",
     "text": [
      "\u001b[34m\u001b[1mwandb\u001b[0m: Agent Starting Run: h482edmc with config:\n",
      "\u001b[34m\u001b[1mwandb\u001b[0m: \tmax_depth: 14\n",
      "\u001b[34m\u001b[1mwandb\u001b[0m: \tmin_samples_split: 2\n",
      "\u001b[34m\u001b[1mwandb\u001b[0m: \tn_estimators: 100\n"
     ]
    },
    {
     "data": {
      "text/html": [
       "Tracking run with wandb version 0.18.5"
      ],
      "text/plain": [
       "<IPython.core.display.HTML object>"
      ]
     },
     "metadata": {},
     "output_type": "display_data"
    },
    {
     "data": {
      "text/html": [
       "Run data is saved locally in <code>/Users/phillipsm/Documents/Teaching/AI_in_PlanetaryXXX/Code/04_NN_Image_Classification/notebooks/wandb/run-20250402_092757-h482edmc</code>"
      ],
      "text/plain": [
       "<IPython.core.display.HTML object>"
      ]
     },
     "metadata": {},
     "output_type": "display_data"
    },
    {
     "data": {
      "text/html": [
       "Syncing run <strong><a href='https://wandb.ai/space-imagery-center/mars-crater-detection-sweep/runs/h482edmc' target=\"_blank\">warm-sweep-2</a></strong> to <a href='https://wandb.ai/space-imagery-center/mars-crater-detection-sweep' target=\"_blank\">Weights & Biases</a> (<a href='https://wandb.me/run' target=\"_blank\">docs</a>)<br/>Sweep page: <a href='https://wandb.ai/space-imagery-center/mars-crater-detection-sweep/sweeps/cjg4hivq' target=\"_blank\">https://wandb.ai/space-imagery-center/mars-crater-detection-sweep/sweeps/cjg4hivq</a>"
      ],
      "text/plain": [
       "<IPython.core.display.HTML object>"
      ]
     },
     "metadata": {},
     "output_type": "display_data"
    },
    {
     "data": {
      "text/html": [
       " View project at <a href='https://wandb.ai/space-imagery-center/mars-crater-detection-sweep' target=\"_blank\">https://wandb.ai/space-imagery-center/mars-crater-detection-sweep</a>"
      ],
      "text/plain": [
       "<IPython.core.display.HTML object>"
      ]
     },
     "metadata": {},
     "output_type": "display_data"
    },
    {
     "data": {
      "text/html": [
       " View sweep at <a href='https://wandb.ai/space-imagery-center/mars-crater-detection-sweep/sweeps/cjg4hivq' target=\"_blank\">https://wandb.ai/space-imagery-center/mars-crater-detection-sweep/sweeps/cjg4hivq</a>"
      ],
      "text/plain": [
       "<IPython.core.display.HTML object>"
      ]
     },
     "metadata": {},
     "output_type": "display_data"
    },
    {
     "data": {
      "text/html": [
       " View run at <a href='https://wandb.ai/space-imagery-center/mars-crater-detection-sweep/runs/h482edmc' target=\"_blank\">https://wandb.ai/space-imagery-center/mars-crater-detection-sweep/runs/h482edmc</a>"
      ],
      "text/plain": [
       "<IPython.core.display.HTML object>"
      ]
     },
     "metadata": {},
     "output_type": "display_data"
    },
    {
     "data": {
      "text/html": [
       "<style>\n",
       "    table.wandb td:nth-child(1) { padding: 0 10px; text-align: left ; width: auto;} td:nth-child(2) {text-align: left ; width: 100%}\n",
       "    .wandb-row { display: flex; flex-direction: row; flex-wrap: wrap; justify-content: flex-start; width: 100% }\n",
       "    .wandb-col { display: flex; flex-direction: column; flex-basis: 100%; flex: 1; padding: 10px; }\n",
       "    </style>\n",
       "<div class=\"wandb-row\"><div class=\"wandb-col\"><h3>Run history:</h3><br/><table class=\"wandb\"><tr><td>accuracy</td><td>▁</td></tr></table><br/></div><div class=\"wandb-col\"><h3>Run summary:</h3><br/><table class=\"wandb\"><tr><td>accuracy</td><td>0.33</td></tr></table><br/></div></div>"
      ],
      "text/plain": [
       "<IPython.core.display.HTML object>"
      ]
     },
     "metadata": {},
     "output_type": "display_data"
    },
    {
     "data": {
      "text/html": [
       " View run <strong style=\"color:#cdcd00\">warm-sweep-2</strong> at: <a href='https://wandb.ai/space-imagery-center/mars-crater-detection-sweep/runs/h482edmc' target=\"_blank\">https://wandb.ai/space-imagery-center/mars-crater-detection-sweep/runs/h482edmc</a><br/> View project at: <a href='https://wandb.ai/space-imagery-center/mars-crater-detection-sweep' target=\"_blank\">https://wandb.ai/space-imagery-center/mars-crater-detection-sweep</a><br/>Synced 5 W&B file(s), 0 media file(s), 0 artifact file(s) and 0 other file(s)"
      ],
      "text/plain": [
       "<IPython.core.display.HTML object>"
      ]
     },
     "metadata": {},
     "output_type": "display_data"
    },
    {
     "data": {
      "text/html": [
       "Find logs at: <code>./wandb/run-20250402_092757-h482edmc/logs</code>"
      ],
      "text/plain": [
       "<IPython.core.display.HTML object>"
      ]
     },
     "metadata": {},
     "output_type": "display_data"
    },
    {
     "name": "stderr",
     "output_type": "stream",
     "text": [
      "\u001b[34m\u001b[1mwandb\u001b[0m: Agent Starting Run: z8u3ddo2 with config:\n",
      "\u001b[34m\u001b[1mwandb\u001b[0m: \tmax_depth: 14\n",
      "\u001b[34m\u001b[1mwandb\u001b[0m: \tmin_samples_split: 5\n",
      "\u001b[34m\u001b[1mwandb\u001b[0m: \tn_estimators: 10\n"
     ]
    },
    {
     "data": {
      "text/html": [
       "Tracking run with wandb version 0.18.5"
      ],
      "text/plain": [
       "<IPython.core.display.HTML object>"
      ]
     },
     "metadata": {},
     "output_type": "display_data"
    },
    {
     "data": {
      "text/html": [
       "Run data is saved locally in <code>/Users/phillipsm/Documents/Teaching/AI_in_PlanetaryXXX/Code/04_NN_Image_Classification/notebooks/wandb/run-20250402_092802-z8u3ddo2</code>"
      ],
      "text/plain": [
       "<IPython.core.display.HTML object>"
      ]
     },
     "metadata": {},
     "output_type": "display_data"
    },
    {
     "data": {
      "text/html": [
       "Syncing run <strong><a href='https://wandb.ai/space-imagery-center/mars-crater-detection-sweep/runs/z8u3ddo2' target=\"_blank\">desert-sweep-3</a></strong> to <a href='https://wandb.ai/space-imagery-center/mars-crater-detection-sweep' target=\"_blank\">Weights & Biases</a> (<a href='https://wandb.me/run' target=\"_blank\">docs</a>)<br/>Sweep page: <a href='https://wandb.ai/space-imagery-center/mars-crater-detection-sweep/sweeps/cjg4hivq' target=\"_blank\">https://wandb.ai/space-imagery-center/mars-crater-detection-sweep/sweeps/cjg4hivq</a>"
      ],
      "text/plain": [
       "<IPython.core.display.HTML object>"
      ]
     },
     "metadata": {},
     "output_type": "display_data"
    },
    {
     "data": {
      "text/html": [
       " View project at <a href='https://wandb.ai/space-imagery-center/mars-crater-detection-sweep' target=\"_blank\">https://wandb.ai/space-imagery-center/mars-crater-detection-sweep</a>"
      ],
      "text/plain": [
       "<IPython.core.display.HTML object>"
      ]
     },
     "metadata": {},
     "output_type": "display_data"
    },
    {
     "data": {
      "text/html": [
       " View sweep at <a href='https://wandb.ai/space-imagery-center/mars-crater-detection-sweep/sweeps/cjg4hivq' target=\"_blank\">https://wandb.ai/space-imagery-center/mars-crater-detection-sweep/sweeps/cjg4hivq</a>"
      ],
      "text/plain": [
       "<IPython.core.display.HTML object>"
      ]
     },
     "metadata": {},
     "output_type": "display_data"
    },
    {
     "data": {
      "text/html": [
       " View run at <a href='https://wandb.ai/space-imagery-center/mars-crater-detection-sweep/runs/z8u3ddo2' target=\"_blank\">https://wandb.ai/space-imagery-center/mars-crater-detection-sweep/runs/z8u3ddo2</a>"
      ],
      "text/plain": [
       "<IPython.core.display.HTML object>"
      ]
     },
     "metadata": {},
     "output_type": "display_data"
    },
    {
     "data": {
      "text/html": [
       "<style>\n",
       "    table.wandb td:nth-child(1) { padding: 0 10px; text-align: left ; width: auto;} td:nth-child(2) {text-align: left ; width: 100%}\n",
       "    .wandb-row { display: flex; flex-direction: row; flex-wrap: wrap; justify-content: flex-start; width: 100% }\n",
       "    .wandb-col { display: flex; flex-direction: column; flex-basis: 100%; flex: 1; padding: 10px; }\n",
       "    </style>\n",
       "<div class=\"wandb-row\"><div class=\"wandb-col\"><h3>Run history:</h3><br/><table class=\"wandb\"><tr><td>accuracy</td><td>▁</td></tr></table><br/></div><div class=\"wandb-col\"><h3>Run summary:</h3><br/><table class=\"wandb\"><tr><td>accuracy</td><td>0.29</td></tr></table><br/></div></div>"
      ],
      "text/plain": [
       "<IPython.core.display.HTML object>"
      ]
     },
     "metadata": {},
     "output_type": "display_data"
    },
    {
     "data": {
      "text/html": [
       " View run <strong style=\"color:#cdcd00\">desert-sweep-3</strong> at: <a href='https://wandb.ai/space-imagery-center/mars-crater-detection-sweep/runs/z8u3ddo2' target=\"_blank\">https://wandb.ai/space-imagery-center/mars-crater-detection-sweep/runs/z8u3ddo2</a><br/> View project at: <a href='https://wandb.ai/space-imagery-center/mars-crater-detection-sweep' target=\"_blank\">https://wandb.ai/space-imagery-center/mars-crater-detection-sweep</a><br/>Synced 5 W&B file(s), 0 media file(s), 0 artifact file(s) and 0 other file(s)"
      ],
      "text/plain": [
       "<IPython.core.display.HTML object>"
      ]
     },
     "metadata": {},
     "output_type": "display_data"
    },
    {
     "data": {
      "text/html": [
       "Find logs at: <code>./wandb/run-20250402_092802-z8u3ddo2/logs</code>"
      ],
      "text/plain": [
       "<IPython.core.display.HTML object>"
      ]
     },
     "metadata": {},
     "output_type": "display_data"
    },
    {
     "name": "stderr",
     "output_type": "stream",
     "text": [
      "\u001b[34m\u001b[1mwandb\u001b[0m: Agent Starting Run: nfvwzwye with config:\n",
      "\u001b[34m\u001b[1mwandb\u001b[0m: \tmax_depth: 16\n",
      "\u001b[34m\u001b[1mwandb\u001b[0m: \tmin_samples_split: 10\n",
      "\u001b[34m\u001b[1mwandb\u001b[0m: \tn_estimators: 200\n"
     ]
    },
    {
     "data": {
      "text/html": [
       "Tracking run with wandb version 0.18.5"
      ],
      "text/plain": [
       "<IPython.core.display.HTML object>"
      ]
     },
     "metadata": {},
     "output_type": "display_data"
    },
    {
     "data": {
      "text/html": [
       "Run data is saved locally in <code>/Users/phillipsm/Documents/Teaching/AI_in_PlanetaryXXX/Code/04_NN_Image_Classification/notebooks/wandb/run-20250402_092808-nfvwzwye</code>"
      ],
      "text/plain": [
       "<IPython.core.display.HTML object>"
      ]
     },
     "metadata": {},
     "output_type": "display_data"
    },
    {
     "data": {
      "text/html": [
       "Syncing run <strong><a href='https://wandb.ai/space-imagery-center/mars-crater-detection-sweep/runs/nfvwzwye' target=\"_blank\">electric-sweep-4</a></strong> to <a href='https://wandb.ai/space-imagery-center/mars-crater-detection-sweep' target=\"_blank\">Weights & Biases</a> (<a href='https://wandb.me/run' target=\"_blank\">docs</a>)<br/>Sweep page: <a href='https://wandb.ai/space-imagery-center/mars-crater-detection-sweep/sweeps/cjg4hivq' target=\"_blank\">https://wandb.ai/space-imagery-center/mars-crater-detection-sweep/sweeps/cjg4hivq</a>"
      ],
      "text/plain": [
       "<IPython.core.display.HTML object>"
      ]
     },
     "metadata": {},
     "output_type": "display_data"
    },
    {
     "data": {
      "text/html": [
       " View project at <a href='https://wandb.ai/space-imagery-center/mars-crater-detection-sweep' target=\"_blank\">https://wandb.ai/space-imagery-center/mars-crater-detection-sweep</a>"
      ],
      "text/plain": [
       "<IPython.core.display.HTML object>"
      ]
     },
     "metadata": {},
     "output_type": "display_data"
    },
    {
     "data": {
      "text/html": [
       " View sweep at <a href='https://wandb.ai/space-imagery-center/mars-crater-detection-sweep/sweeps/cjg4hivq' target=\"_blank\">https://wandb.ai/space-imagery-center/mars-crater-detection-sweep/sweeps/cjg4hivq</a>"
      ],
      "text/plain": [
       "<IPython.core.display.HTML object>"
      ]
     },
     "metadata": {},
     "output_type": "display_data"
    },
    {
     "data": {
      "text/html": [
       " View run at <a href='https://wandb.ai/space-imagery-center/mars-crater-detection-sweep/runs/nfvwzwye' target=\"_blank\">https://wandb.ai/space-imagery-center/mars-crater-detection-sweep/runs/nfvwzwye</a>"
      ],
      "text/plain": [
       "<IPython.core.display.HTML object>"
      ]
     },
     "metadata": {},
     "output_type": "display_data"
    },
    {
     "data": {
      "text/html": [
       "<style>\n",
       "    table.wandb td:nth-child(1) { padding: 0 10px; text-align: left ; width: auto;} td:nth-child(2) {text-align: left ; width: 100%}\n",
       "    .wandb-row { display: flex; flex-direction: row; flex-wrap: wrap; justify-content: flex-start; width: 100% }\n",
       "    .wandb-col { display: flex; flex-direction: column; flex-basis: 100%; flex: 1; padding: 10px; }\n",
       "    </style>\n",
       "<div class=\"wandb-row\"><div class=\"wandb-col\"><h3>Run history:</h3><br/><table class=\"wandb\"><tr><td>accuracy</td><td>▁</td></tr></table><br/></div><div class=\"wandb-col\"><h3>Run summary:</h3><br/><table class=\"wandb\"><tr><td>accuracy</td><td>0.38</td></tr></table><br/></div></div>"
      ],
      "text/plain": [
       "<IPython.core.display.HTML object>"
      ]
     },
     "metadata": {},
     "output_type": "display_data"
    },
    {
     "data": {
      "text/html": [
       " View run <strong style=\"color:#cdcd00\">electric-sweep-4</strong> at: <a href='https://wandb.ai/space-imagery-center/mars-crater-detection-sweep/runs/nfvwzwye' target=\"_blank\">https://wandb.ai/space-imagery-center/mars-crater-detection-sweep/runs/nfvwzwye</a><br/> View project at: <a href='https://wandb.ai/space-imagery-center/mars-crater-detection-sweep' target=\"_blank\">https://wandb.ai/space-imagery-center/mars-crater-detection-sweep</a><br/>Synced 5 W&B file(s), 0 media file(s), 0 artifact file(s) and 0 other file(s)"
      ],
      "text/plain": [
       "<IPython.core.display.HTML object>"
      ]
     },
     "metadata": {},
     "output_type": "display_data"
    },
    {
     "data": {
      "text/html": [
       "Find logs at: <code>./wandb/run-20250402_092808-nfvwzwye/logs</code>"
      ],
      "text/plain": [
       "<IPython.core.display.HTML object>"
      ]
     },
     "metadata": {},
     "output_type": "display_data"
    },
    {
     "name": "stderr",
     "output_type": "stream",
     "text": [
      "\u001b[34m\u001b[1mwandb\u001b[0m: Agent Starting Run: cefm49lm with config:\n",
      "\u001b[34m\u001b[1mwandb\u001b[0m: \tmax_depth: 13\n",
      "\u001b[34m\u001b[1mwandb\u001b[0m: \tmin_samples_split: 10\n",
      "\u001b[34m\u001b[1mwandb\u001b[0m: \tn_estimators: 200\n"
     ]
    },
    {
     "data": {
      "text/html": [
       "Tracking run with wandb version 0.18.5"
      ],
      "text/plain": [
       "<IPython.core.display.HTML object>"
      ]
     },
     "metadata": {},
     "output_type": "display_data"
    },
    {
     "data": {
      "text/html": [
       "Run data is saved locally in <code>/Users/phillipsm/Documents/Teaching/AI_in_PlanetaryXXX/Code/04_NN_Image_Classification/notebooks/wandb/run-20250402_092814-cefm49lm</code>"
      ],
      "text/plain": [
       "<IPython.core.display.HTML object>"
      ]
     },
     "metadata": {},
     "output_type": "display_data"
    },
    {
     "data": {
      "text/html": [
       "Syncing run <strong><a href='https://wandb.ai/space-imagery-center/mars-crater-detection-sweep/runs/cefm49lm' target=\"_blank\">distinctive-sweep-5</a></strong> to <a href='https://wandb.ai/space-imagery-center/mars-crater-detection-sweep' target=\"_blank\">Weights & Biases</a> (<a href='https://wandb.me/run' target=\"_blank\">docs</a>)<br/>Sweep page: <a href='https://wandb.ai/space-imagery-center/mars-crater-detection-sweep/sweeps/cjg4hivq' target=\"_blank\">https://wandb.ai/space-imagery-center/mars-crater-detection-sweep/sweeps/cjg4hivq</a>"
      ],
      "text/plain": [
       "<IPython.core.display.HTML object>"
      ]
     },
     "metadata": {},
     "output_type": "display_data"
    },
    {
     "data": {
      "text/html": [
       " View project at <a href='https://wandb.ai/space-imagery-center/mars-crater-detection-sweep' target=\"_blank\">https://wandb.ai/space-imagery-center/mars-crater-detection-sweep</a>"
      ],
      "text/plain": [
       "<IPython.core.display.HTML object>"
      ]
     },
     "metadata": {},
     "output_type": "display_data"
    },
    {
     "data": {
      "text/html": [
       " View sweep at <a href='https://wandb.ai/space-imagery-center/mars-crater-detection-sweep/sweeps/cjg4hivq' target=\"_blank\">https://wandb.ai/space-imagery-center/mars-crater-detection-sweep/sweeps/cjg4hivq</a>"
      ],
      "text/plain": [
       "<IPython.core.display.HTML object>"
      ]
     },
     "metadata": {},
     "output_type": "display_data"
    },
    {
     "data": {
      "text/html": [
       " View run at <a href='https://wandb.ai/space-imagery-center/mars-crater-detection-sweep/runs/cefm49lm' target=\"_blank\">https://wandb.ai/space-imagery-center/mars-crater-detection-sweep/runs/cefm49lm</a>"
      ],
      "text/plain": [
       "<IPython.core.display.HTML object>"
      ]
     },
     "metadata": {},
     "output_type": "display_data"
    },
    {
     "data": {
      "text/html": [
       "<style>\n",
       "    table.wandb td:nth-child(1) { padding: 0 10px; text-align: left ; width: auto;} td:nth-child(2) {text-align: left ; width: 100%}\n",
       "    .wandb-row { display: flex; flex-direction: row; flex-wrap: wrap; justify-content: flex-start; width: 100% }\n",
       "    .wandb-col { display: flex; flex-direction: column; flex-basis: 100%; flex: 1; padding: 10px; }\n",
       "    </style>\n",
       "<div class=\"wandb-row\"><div class=\"wandb-col\"><h3>Run history:</h3><br/><table class=\"wandb\"><tr><td>accuracy</td><td>▁</td></tr></table><br/></div><div class=\"wandb-col\"><h3>Run summary:</h3><br/><table class=\"wandb\"><tr><td>accuracy</td><td>0.34</td></tr></table><br/></div></div>"
      ],
      "text/plain": [
       "<IPython.core.display.HTML object>"
      ]
     },
     "metadata": {},
     "output_type": "display_data"
    },
    {
     "data": {
      "text/html": [
       " View run <strong style=\"color:#cdcd00\">distinctive-sweep-5</strong> at: <a href='https://wandb.ai/space-imagery-center/mars-crater-detection-sweep/runs/cefm49lm' target=\"_blank\">https://wandb.ai/space-imagery-center/mars-crater-detection-sweep/runs/cefm49lm</a><br/> View project at: <a href='https://wandb.ai/space-imagery-center/mars-crater-detection-sweep' target=\"_blank\">https://wandb.ai/space-imagery-center/mars-crater-detection-sweep</a><br/>Synced 5 W&B file(s), 0 media file(s), 0 artifact file(s) and 0 other file(s)"
      ],
      "text/plain": [
       "<IPython.core.display.HTML object>"
      ]
     },
     "metadata": {},
     "output_type": "display_data"
    },
    {
     "data": {
      "text/html": [
       "Find logs at: <code>./wandb/run-20250402_092814-cefm49lm/logs</code>"
      ],
      "text/plain": [
       "<IPython.core.display.HTML object>"
      ]
     },
     "metadata": {},
     "output_type": "display_data"
    },
    {
     "name": "stderr",
     "output_type": "stream",
     "text": [
      "\u001b[34m\u001b[1mwandb\u001b[0m: Agent Starting Run: uxvttoqw with config:\n",
      "\u001b[34m\u001b[1mwandb\u001b[0m: \tmax_depth: 8\n",
      "\u001b[34m\u001b[1mwandb\u001b[0m: \tmin_samples_split: 5\n",
      "\u001b[34m\u001b[1mwandb\u001b[0m: \tn_estimators: 10\n"
     ]
    },
    {
     "data": {
      "text/html": [
       "Tracking run with wandb version 0.18.5"
      ],
      "text/plain": [
       "<IPython.core.display.HTML object>"
      ]
     },
     "metadata": {},
     "output_type": "display_data"
    },
    {
     "data": {
      "text/html": [
       "Run data is saved locally in <code>/Users/phillipsm/Documents/Teaching/AI_in_PlanetaryXXX/Code/04_NN_Image_Classification/notebooks/wandb/run-20250402_092820-uxvttoqw</code>"
      ],
      "text/plain": [
       "<IPython.core.display.HTML object>"
      ]
     },
     "metadata": {},
     "output_type": "display_data"
    },
    {
     "data": {
      "text/html": [
       "Syncing run <strong><a href='https://wandb.ai/space-imagery-center/mars-crater-detection-sweep/runs/uxvttoqw' target=\"_blank\">absurd-sweep-6</a></strong> to <a href='https://wandb.ai/space-imagery-center/mars-crater-detection-sweep' target=\"_blank\">Weights & Biases</a> (<a href='https://wandb.me/run' target=\"_blank\">docs</a>)<br/>Sweep page: <a href='https://wandb.ai/space-imagery-center/mars-crater-detection-sweep/sweeps/cjg4hivq' target=\"_blank\">https://wandb.ai/space-imagery-center/mars-crater-detection-sweep/sweeps/cjg4hivq</a>"
      ],
      "text/plain": [
       "<IPython.core.display.HTML object>"
      ]
     },
     "metadata": {},
     "output_type": "display_data"
    },
    {
     "data": {
      "text/html": [
       " View project at <a href='https://wandb.ai/space-imagery-center/mars-crater-detection-sweep' target=\"_blank\">https://wandb.ai/space-imagery-center/mars-crater-detection-sweep</a>"
      ],
      "text/plain": [
       "<IPython.core.display.HTML object>"
      ]
     },
     "metadata": {},
     "output_type": "display_data"
    },
    {
     "data": {
      "text/html": [
       " View sweep at <a href='https://wandb.ai/space-imagery-center/mars-crater-detection-sweep/sweeps/cjg4hivq' target=\"_blank\">https://wandb.ai/space-imagery-center/mars-crater-detection-sweep/sweeps/cjg4hivq</a>"
      ],
      "text/plain": [
       "<IPython.core.display.HTML object>"
      ]
     },
     "metadata": {},
     "output_type": "display_data"
    },
    {
     "data": {
      "text/html": [
       " View run at <a href='https://wandb.ai/space-imagery-center/mars-crater-detection-sweep/runs/uxvttoqw' target=\"_blank\">https://wandb.ai/space-imagery-center/mars-crater-detection-sweep/runs/uxvttoqw</a>"
      ],
      "text/plain": [
       "<IPython.core.display.HTML object>"
      ]
     },
     "metadata": {},
     "output_type": "display_data"
    },
    {
     "data": {
      "application/vnd.jupyter.widget-view+json": {
       "model_id": "21d61c2efc7345aaaa257347199f2efc",
       "version_major": 2,
       "version_minor": 0
      },
      "text/plain": [
       "VBox(children=(Label(value='0.004 MB of 0.004 MB uploaded\\r'), FloatProgress(value=1.0, max=1.0)))"
      ]
     },
     "metadata": {},
     "output_type": "display_data"
    },
    {
     "data": {
      "text/html": [
       "<style>\n",
       "    table.wandb td:nth-child(1) { padding: 0 10px; text-align: left ; width: auto;} td:nth-child(2) {text-align: left ; width: 100%}\n",
       "    .wandb-row { display: flex; flex-direction: row; flex-wrap: wrap; justify-content: flex-start; width: 100% }\n",
       "    .wandb-col { display: flex; flex-direction: column; flex-basis: 100%; flex: 1; padding: 10px; }\n",
       "    </style>\n",
       "<div class=\"wandb-row\"><div class=\"wandb-col\"><h3>Run history:</h3><br/><table class=\"wandb\"><tr><td>accuracy</td><td>▁</td></tr></table><br/></div><div class=\"wandb-col\"><h3>Run summary:</h3><br/><table class=\"wandb\"><tr><td>accuracy</td><td>0.35</td></tr></table><br/></div></div>"
      ],
      "text/plain": [
       "<IPython.core.display.HTML object>"
      ]
     },
     "metadata": {},
     "output_type": "display_data"
    },
    {
     "data": {
      "text/html": [
       " View run <strong style=\"color:#cdcd00\">absurd-sweep-6</strong> at: <a href='https://wandb.ai/space-imagery-center/mars-crater-detection-sweep/runs/uxvttoqw' target=\"_blank\">https://wandb.ai/space-imagery-center/mars-crater-detection-sweep/runs/uxvttoqw</a><br/> View project at: <a href='https://wandb.ai/space-imagery-center/mars-crater-detection-sweep' target=\"_blank\">https://wandb.ai/space-imagery-center/mars-crater-detection-sweep</a><br/>Synced 5 W&B file(s), 0 media file(s), 0 artifact file(s) and 0 other file(s)"
      ],
      "text/plain": [
       "<IPython.core.display.HTML object>"
      ]
     },
     "metadata": {},
     "output_type": "display_data"
    },
    {
     "data": {
      "text/html": [
       "Find logs at: <code>./wandb/run-20250402_092820-uxvttoqw/logs</code>"
      ],
      "text/plain": [
       "<IPython.core.display.HTML object>"
      ]
     },
     "metadata": {},
     "output_type": "display_data"
    },
    {
     "name": "stderr",
     "output_type": "stream",
     "text": [
      "\u001b[34m\u001b[1mwandb\u001b[0m: Sweep Agent: Waiting for job.\n",
      "\u001b[34m\u001b[1mwandb\u001b[0m: Job received.\n",
      "\u001b[34m\u001b[1mwandb\u001b[0m: Agent Starting Run: 094tuc2x with config:\n",
      "\u001b[34m\u001b[1mwandb\u001b[0m: \tmax_depth: 6\n",
      "\u001b[34m\u001b[1mwandb\u001b[0m: \tmin_samples_split: 5\n",
      "\u001b[34m\u001b[1mwandb\u001b[0m: \tn_estimators: 10\n"
     ]
    },
    {
     "data": {
      "text/html": [
       "Tracking run with wandb version 0.18.5"
      ],
      "text/plain": [
       "<IPython.core.display.HTML object>"
      ]
     },
     "metadata": {},
     "output_type": "display_data"
    },
    {
     "data": {
      "text/html": [
       "Run data is saved locally in <code>/Users/phillipsm/Documents/Teaching/AI_in_PlanetaryXXX/Code/04_NN_Image_Classification/notebooks/wandb/run-20250402_092834-094tuc2x</code>"
      ],
      "text/plain": [
       "<IPython.core.display.HTML object>"
      ]
     },
     "metadata": {},
     "output_type": "display_data"
    },
    {
     "data": {
      "text/html": [
       "Syncing run <strong><a href='https://wandb.ai/space-imagery-center/mars-crater-detection-sweep/runs/094tuc2x' target=\"_blank\">royal-sweep-7</a></strong> to <a href='https://wandb.ai/space-imagery-center/mars-crater-detection-sweep' target=\"_blank\">Weights & Biases</a> (<a href='https://wandb.me/run' target=\"_blank\">docs</a>)<br/>Sweep page: <a href='https://wandb.ai/space-imagery-center/mars-crater-detection-sweep/sweeps/cjg4hivq' target=\"_blank\">https://wandb.ai/space-imagery-center/mars-crater-detection-sweep/sweeps/cjg4hivq</a>"
      ],
      "text/plain": [
       "<IPython.core.display.HTML object>"
      ]
     },
     "metadata": {},
     "output_type": "display_data"
    },
    {
     "data": {
      "text/html": [
       " View project at <a href='https://wandb.ai/space-imagery-center/mars-crater-detection-sweep' target=\"_blank\">https://wandb.ai/space-imagery-center/mars-crater-detection-sweep</a>"
      ],
      "text/plain": [
       "<IPython.core.display.HTML object>"
      ]
     },
     "metadata": {},
     "output_type": "display_data"
    },
    {
     "data": {
      "text/html": [
       " View sweep at <a href='https://wandb.ai/space-imagery-center/mars-crater-detection-sweep/sweeps/cjg4hivq' target=\"_blank\">https://wandb.ai/space-imagery-center/mars-crater-detection-sweep/sweeps/cjg4hivq</a>"
      ],
      "text/plain": [
       "<IPython.core.display.HTML object>"
      ]
     },
     "metadata": {},
     "output_type": "display_data"
    },
    {
     "data": {
      "text/html": [
       " View run at <a href='https://wandb.ai/space-imagery-center/mars-crater-detection-sweep/runs/094tuc2x' target=\"_blank\">https://wandb.ai/space-imagery-center/mars-crater-detection-sweep/runs/094tuc2x</a>"
      ],
      "text/plain": [
       "<IPython.core.display.HTML object>"
      ]
     },
     "metadata": {},
     "output_type": "display_data"
    },
    {
     "data": {
      "text/html": [
       "<style>\n",
       "    table.wandb td:nth-child(1) { padding: 0 10px; text-align: left ; width: auto;} td:nth-child(2) {text-align: left ; width: 100%}\n",
       "    .wandb-row { display: flex; flex-direction: row; flex-wrap: wrap; justify-content: flex-start; width: 100% }\n",
       "    .wandb-col { display: flex; flex-direction: column; flex-basis: 100%; flex: 1; padding: 10px; }\n",
       "    </style>\n",
       "<div class=\"wandb-row\"><div class=\"wandb-col\"><h3>Run history:</h3><br/><table class=\"wandb\"><tr><td>accuracy</td><td>▁</td></tr></table><br/></div><div class=\"wandb-col\"><h3>Run summary:</h3><br/><table class=\"wandb\"><tr><td>accuracy</td><td>0.37</td></tr></table><br/></div></div>"
      ],
      "text/plain": [
       "<IPython.core.display.HTML object>"
      ]
     },
     "metadata": {},
     "output_type": "display_data"
    },
    {
     "data": {
      "text/html": [
       " View run <strong style=\"color:#cdcd00\">royal-sweep-7</strong> at: <a href='https://wandb.ai/space-imagery-center/mars-crater-detection-sweep/runs/094tuc2x' target=\"_blank\">https://wandb.ai/space-imagery-center/mars-crater-detection-sweep/runs/094tuc2x</a><br/> View project at: <a href='https://wandb.ai/space-imagery-center/mars-crater-detection-sweep' target=\"_blank\">https://wandb.ai/space-imagery-center/mars-crater-detection-sweep</a><br/>Synced 5 W&B file(s), 0 media file(s), 0 artifact file(s) and 0 other file(s)"
      ],
      "text/plain": [
       "<IPython.core.display.HTML object>"
      ]
     },
     "metadata": {},
     "output_type": "display_data"
    },
    {
     "data": {
      "text/html": [
       "Find logs at: <code>./wandb/run-20250402_092834-094tuc2x/logs</code>"
      ],
      "text/plain": [
       "<IPython.core.display.HTML object>"
      ]
     },
     "metadata": {},
     "output_type": "display_data"
    },
    {
     "name": "stderr",
     "output_type": "stream",
     "text": [
      "\u001b[34m\u001b[1mwandb\u001b[0m: Agent Starting Run: adbpff6g with config:\n",
      "\u001b[34m\u001b[1mwandb\u001b[0m: \tmax_depth: 4\n",
      "\u001b[34m\u001b[1mwandb\u001b[0m: \tmin_samples_split: 2\n",
      "\u001b[34m\u001b[1mwandb\u001b[0m: \tn_estimators: 10\n"
     ]
    },
    {
     "data": {
      "text/html": [
       "Tracking run with wandb version 0.18.5"
      ],
      "text/plain": [
       "<IPython.core.display.HTML object>"
      ]
     },
     "metadata": {},
     "output_type": "display_data"
    },
    {
     "data": {
      "text/html": [
       "Run data is saved locally in <code>/Users/phillipsm/Documents/Teaching/AI_in_PlanetaryXXX/Code/04_NN_Image_Classification/notebooks/wandb/run-20250402_092839-adbpff6g</code>"
      ],
      "text/plain": [
       "<IPython.core.display.HTML object>"
      ]
     },
     "metadata": {},
     "output_type": "display_data"
    },
    {
     "data": {
      "text/html": [
       "Syncing run <strong><a href='https://wandb.ai/space-imagery-center/mars-crater-detection-sweep/runs/adbpff6g' target=\"_blank\">effortless-sweep-8</a></strong> to <a href='https://wandb.ai/space-imagery-center/mars-crater-detection-sweep' target=\"_blank\">Weights & Biases</a> (<a href='https://wandb.me/run' target=\"_blank\">docs</a>)<br/>Sweep page: <a href='https://wandb.ai/space-imagery-center/mars-crater-detection-sweep/sweeps/cjg4hivq' target=\"_blank\">https://wandb.ai/space-imagery-center/mars-crater-detection-sweep/sweeps/cjg4hivq</a>"
      ],
      "text/plain": [
       "<IPython.core.display.HTML object>"
      ]
     },
     "metadata": {},
     "output_type": "display_data"
    },
    {
     "data": {
      "text/html": [
       " View project at <a href='https://wandb.ai/space-imagery-center/mars-crater-detection-sweep' target=\"_blank\">https://wandb.ai/space-imagery-center/mars-crater-detection-sweep</a>"
      ],
      "text/plain": [
       "<IPython.core.display.HTML object>"
      ]
     },
     "metadata": {},
     "output_type": "display_data"
    },
    {
     "data": {
      "text/html": [
       " View sweep at <a href='https://wandb.ai/space-imagery-center/mars-crater-detection-sweep/sweeps/cjg4hivq' target=\"_blank\">https://wandb.ai/space-imagery-center/mars-crater-detection-sweep/sweeps/cjg4hivq</a>"
      ],
      "text/plain": [
       "<IPython.core.display.HTML object>"
      ]
     },
     "metadata": {},
     "output_type": "display_data"
    },
    {
     "data": {
      "text/html": [
       " View run at <a href='https://wandb.ai/space-imagery-center/mars-crater-detection-sweep/runs/adbpff6g' target=\"_blank\">https://wandb.ai/space-imagery-center/mars-crater-detection-sweep/runs/adbpff6g</a>"
      ],
      "text/plain": [
       "<IPython.core.display.HTML object>"
      ]
     },
     "metadata": {},
     "output_type": "display_data"
    },
    {
     "data": {
      "application/vnd.jupyter.widget-view+json": {
       "model_id": "f4dea65ffcdf43dd9bc86bbbe27c2005",
       "version_major": 2,
       "version_minor": 0
      },
      "text/plain": [
       "VBox(children=(Label(value='0.004 MB of 0.004 MB uploaded\\r'), FloatProgress(value=1.0, max=1.0)))"
      ]
     },
     "metadata": {},
     "output_type": "display_data"
    },
    {
     "data": {
      "text/html": [
       "<style>\n",
       "    table.wandb td:nth-child(1) { padding: 0 10px; text-align: left ; width: auto;} td:nth-child(2) {text-align: left ; width: 100%}\n",
       "    .wandb-row { display: flex; flex-direction: row; flex-wrap: wrap; justify-content: flex-start; width: 100% }\n",
       "    .wandb-col { display: flex; flex-direction: column; flex-basis: 100%; flex: 1; padding: 10px; }\n",
       "    </style>\n",
       "<div class=\"wandb-row\"><div class=\"wandb-col\"><h3>Run history:</h3><br/><table class=\"wandb\"><tr><td>accuracy</td><td>▁</td></tr></table><br/></div><div class=\"wandb-col\"><h3>Run summary:</h3><br/><table class=\"wandb\"><tr><td>accuracy</td><td>0.315</td></tr></table><br/></div></div>"
      ],
      "text/plain": [
       "<IPython.core.display.HTML object>"
      ]
     },
     "metadata": {},
     "output_type": "display_data"
    },
    {
     "data": {
      "text/html": [
       " View run <strong style=\"color:#cdcd00\">effortless-sweep-8</strong> at: <a href='https://wandb.ai/space-imagery-center/mars-crater-detection-sweep/runs/adbpff6g' target=\"_blank\">https://wandb.ai/space-imagery-center/mars-crater-detection-sweep/runs/adbpff6g</a><br/> View project at: <a href='https://wandb.ai/space-imagery-center/mars-crater-detection-sweep' target=\"_blank\">https://wandb.ai/space-imagery-center/mars-crater-detection-sweep</a><br/>Synced 5 W&B file(s), 0 media file(s), 0 artifact file(s) and 0 other file(s)"
      ],
      "text/plain": [
       "<IPython.core.display.HTML object>"
      ]
     },
     "metadata": {},
     "output_type": "display_data"
    },
    {
     "data": {
      "text/html": [
       "Find logs at: <code>./wandb/run-20250402_092839-adbpff6g/logs</code>"
      ],
      "text/plain": [
       "<IPython.core.display.HTML object>"
      ]
     },
     "metadata": {},
     "output_type": "display_data"
    },
    {
     "name": "stderr",
     "output_type": "stream",
     "text": [
      "\u001b[34m\u001b[1mwandb\u001b[0m: Agent Starting Run: k1m2jq3m with config:\n",
      "\u001b[34m\u001b[1mwandb\u001b[0m: \tmax_depth: 11\n",
      "\u001b[34m\u001b[1mwandb\u001b[0m: \tmin_samples_split: 5\n",
      "\u001b[34m\u001b[1mwandb\u001b[0m: \tn_estimators: 10\n"
     ]
    },
    {
     "data": {
      "text/html": [
       "Tracking run with wandb version 0.18.5"
      ],
      "text/plain": [
       "<IPython.core.display.HTML object>"
      ]
     },
     "metadata": {},
     "output_type": "display_data"
    },
    {
     "data": {
      "text/html": [
       "Run data is saved locally in <code>/Users/phillipsm/Documents/Teaching/AI_in_PlanetaryXXX/Code/04_NN_Image_Classification/notebooks/wandb/run-20250402_092850-k1m2jq3m</code>"
      ],
      "text/plain": [
       "<IPython.core.display.HTML object>"
      ]
     },
     "metadata": {},
     "output_type": "display_data"
    },
    {
     "data": {
      "text/html": [
       "Syncing run <strong><a href='https://wandb.ai/space-imagery-center/mars-crater-detection-sweep/runs/k1m2jq3m' target=\"_blank\">exalted-sweep-9</a></strong> to <a href='https://wandb.ai/space-imagery-center/mars-crater-detection-sweep' target=\"_blank\">Weights & Biases</a> (<a href='https://wandb.me/run' target=\"_blank\">docs</a>)<br/>Sweep page: <a href='https://wandb.ai/space-imagery-center/mars-crater-detection-sweep/sweeps/cjg4hivq' target=\"_blank\">https://wandb.ai/space-imagery-center/mars-crater-detection-sweep/sweeps/cjg4hivq</a>"
      ],
      "text/plain": [
       "<IPython.core.display.HTML object>"
      ]
     },
     "metadata": {},
     "output_type": "display_data"
    },
    {
     "data": {
      "text/html": [
       " View project at <a href='https://wandb.ai/space-imagery-center/mars-crater-detection-sweep' target=\"_blank\">https://wandb.ai/space-imagery-center/mars-crater-detection-sweep</a>"
      ],
      "text/plain": [
       "<IPython.core.display.HTML object>"
      ]
     },
     "metadata": {},
     "output_type": "display_data"
    },
    {
     "data": {
      "text/html": [
       " View sweep at <a href='https://wandb.ai/space-imagery-center/mars-crater-detection-sweep/sweeps/cjg4hivq' target=\"_blank\">https://wandb.ai/space-imagery-center/mars-crater-detection-sweep/sweeps/cjg4hivq</a>"
      ],
      "text/plain": [
       "<IPython.core.display.HTML object>"
      ]
     },
     "metadata": {},
     "output_type": "display_data"
    },
    {
     "data": {
      "text/html": [
       " View run at <a href='https://wandb.ai/space-imagery-center/mars-crater-detection-sweep/runs/k1m2jq3m' target=\"_blank\">https://wandb.ai/space-imagery-center/mars-crater-detection-sweep/runs/k1m2jq3m</a>"
      ],
      "text/plain": [
       "<IPython.core.display.HTML object>"
      ]
     },
     "metadata": {},
     "output_type": "display_data"
    },
    {
     "data": {
      "text/html": [
       "<style>\n",
       "    table.wandb td:nth-child(1) { padding: 0 10px; text-align: left ; width: auto;} td:nth-child(2) {text-align: left ; width: 100%}\n",
       "    .wandb-row { display: flex; flex-direction: row; flex-wrap: wrap; justify-content: flex-start; width: 100% }\n",
       "    .wandb-col { display: flex; flex-direction: column; flex-basis: 100%; flex: 1; padding: 10px; }\n",
       "    </style>\n",
       "<div class=\"wandb-row\"><div class=\"wandb-col\"><h3>Run history:</h3><br/><table class=\"wandb\"><tr><td>accuracy</td><td>▁</td></tr></table><br/></div><div class=\"wandb-col\"><h3>Run summary:</h3><br/><table class=\"wandb\"><tr><td>accuracy</td><td>0.32</td></tr></table><br/></div></div>"
      ],
      "text/plain": [
       "<IPython.core.display.HTML object>"
      ]
     },
     "metadata": {},
     "output_type": "display_data"
    },
    {
     "data": {
      "text/html": [
       " View run <strong style=\"color:#cdcd00\">exalted-sweep-9</strong> at: <a href='https://wandb.ai/space-imagery-center/mars-crater-detection-sweep/runs/k1m2jq3m' target=\"_blank\">https://wandb.ai/space-imagery-center/mars-crater-detection-sweep/runs/k1m2jq3m</a><br/> View project at: <a href='https://wandb.ai/space-imagery-center/mars-crater-detection-sweep' target=\"_blank\">https://wandb.ai/space-imagery-center/mars-crater-detection-sweep</a><br/>Synced 5 W&B file(s), 0 media file(s), 0 artifact file(s) and 0 other file(s)"
      ],
      "text/plain": [
       "<IPython.core.display.HTML object>"
      ]
     },
     "metadata": {},
     "output_type": "display_data"
    },
    {
     "data": {
      "text/html": [
       "Find logs at: <code>./wandb/run-20250402_092850-k1m2jq3m/logs</code>"
      ],
      "text/plain": [
       "<IPython.core.display.HTML object>"
      ]
     },
     "metadata": {},
     "output_type": "display_data"
    },
    {
     "name": "stderr",
     "output_type": "stream",
     "text": [
      "\u001b[34m\u001b[1mwandb\u001b[0m: Agent Starting Run: hvfjtch2 with config:\n",
      "\u001b[34m\u001b[1mwandb\u001b[0m: \tmax_depth: 18\n",
      "\u001b[34m\u001b[1mwandb\u001b[0m: \tmin_samples_split: 10\n",
      "\u001b[34m\u001b[1mwandb\u001b[0m: \tn_estimators: 50\n"
     ]
    },
    {
     "data": {
      "text/html": [
       "Tracking run with wandb version 0.18.5"
      ],
      "text/plain": [
       "<IPython.core.display.HTML object>"
      ]
     },
     "metadata": {},
     "output_type": "display_data"
    },
    {
     "data": {
      "text/html": [
       "Run data is saved locally in <code>/Users/phillipsm/Documents/Teaching/AI_in_PlanetaryXXX/Code/04_NN_Image_Classification/notebooks/wandb/run-20250402_092857-hvfjtch2</code>"
      ],
      "text/plain": [
       "<IPython.core.display.HTML object>"
      ]
     },
     "metadata": {},
     "output_type": "display_data"
    },
    {
     "data": {
      "text/html": [
       "Syncing run <strong><a href='https://wandb.ai/space-imagery-center/mars-crater-detection-sweep/runs/hvfjtch2' target=\"_blank\">deft-sweep-10</a></strong> to <a href='https://wandb.ai/space-imagery-center/mars-crater-detection-sweep' target=\"_blank\">Weights & Biases</a> (<a href='https://wandb.me/run' target=\"_blank\">docs</a>)<br/>Sweep page: <a href='https://wandb.ai/space-imagery-center/mars-crater-detection-sweep/sweeps/cjg4hivq' target=\"_blank\">https://wandb.ai/space-imagery-center/mars-crater-detection-sweep/sweeps/cjg4hivq</a>"
      ],
      "text/plain": [
       "<IPython.core.display.HTML object>"
      ]
     },
     "metadata": {},
     "output_type": "display_data"
    },
    {
     "data": {
      "text/html": [
       " View project at <a href='https://wandb.ai/space-imagery-center/mars-crater-detection-sweep' target=\"_blank\">https://wandb.ai/space-imagery-center/mars-crater-detection-sweep</a>"
      ],
      "text/plain": [
       "<IPython.core.display.HTML object>"
      ]
     },
     "metadata": {},
     "output_type": "display_data"
    },
    {
     "data": {
      "text/html": [
       " View sweep at <a href='https://wandb.ai/space-imagery-center/mars-crater-detection-sweep/sweeps/cjg4hivq' target=\"_blank\">https://wandb.ai/space-imagery-center/mars-crater-detection-sweep/sweeps/cjg4hivq</a>"
      ],
      "text/plain": [
       "<IPython.core.display.HTML object>"
      ]
     },
     "metadata": {},
     "output_type": "display_data"
    },
    {
     "data": {
      "text/html": [
       " View run at <a href='https://wandb.ai/space-imagery-center/mars-crater-detection-sweep/runs/hvfjtch2' target=\"_blank\">https://wandb.ai/space-imagery-center/mars-crater-detection-sweep/runs/hvfjtch2</a>"
      ],
      "text/plain": [
       "<IPython.core.display.HTML object>"
      ]
     },
     "metadata": {},
     "output_type": "display_data"
    },
    {
     "data": {
      "text/html": [
       "<style>\n",
       "    table.wandb td:nth-child(1) { padding: 0 10px; text-align: left ; width: auto;} td:nth-child(2) {text-align: left ; width: 100%}\n",
       "    .wandb-row { display: flex; flex-direction: row; flex-wrap: wrap; justify-content: flex-start; width: 100% }\n",
       "    .wandb-col { display: flex; flex-direction: column; flex-basis: 100%; flex: 1; padding: 10px; }\n",
       "    </style>\n",
       "<div class=\"wandb-row\"><div class=\"wandb-col\"><h3>Run history:</h3><br/><table class=\"wandb\"><tr><td>accuracy</td><td>▁</td></tr></table><br/></div><div class=\"wandb-col\"><h3>Run summary:</h3><br/><table class=\"wandb\"><tr><td>accuracy</td><td>0.31</td></tr></table><br/></div></div>"
      ],
      "text/plain": [
       "<IPython.core.display.HTML object>"
      ]
     },
     "metadata": {},
     "output_type": "display_data"
    },
    {
     "data": {
      "text/html": [
       " View run <strong style=\"color:#cdcd00\">deft-sweep-10</strong> at: <a href='https://wandb.ai/space-imagery-center/mars-crater-detection-sweep/runs/hvfjtch2' target=\"_blank\">https://wandb.ai/space-imagery-center/mars-crater-detection-sweep/runs/hvfjtch2</a><br/> View project at: <a href='https://wandb.ai/space-imagery-center/mars-crater-detection-sweep' target=\"_blank\">https://wandb.ai/space-imagery-center/mars-crater-detection-sweep</a><br/>Synced 5 W&B file(s), 0 media file(s), 0 artifact file(s) and 0 other file(s)"
      ],
      "text/plain": [
       "<IPython.core.display.HTML object>"
      ]
     },
     "metadata": {},
     "output_type": "display_data"
    },
    {
     "data": {
      "text/html": [
       "Find logs at: <code>./wandb/run-20250402_092857-hvfjtch2/logs</code>"
      ],
      "text/plain": [
       "<IPython.core.display.HTML object>"
      ]
     },
     "metadata": {},
     "output_type": "display_data"
    },
    {
     "name": "stdout",
     "output_type": "stream",
     "text": [
      "Sweep results would appear in your W&B dashboard\n",
      "You would see charts comparing different hyperparameter combinations\n"
     ]
    }
   ],
   "source": [
    "def train_with_config():\n",
    "    # This function will be called by wandb.agent for each combination of hyperparameters\n",
    "    run = wandb.init()\n",
    "    \n",
    "    # Get hyperparameters from wandb.config\n",
    "    config = wandb.config\n",
    "    \n",
    "    # Simulate model training with these hyperparameters\n",
    "    # In a real scenario, you would train your actual model here\n",
    "    \n",
    "    # Simulate dataset loading\n",
    "    X = np.random.rand(1000, 30)  # 30 features\n",
    "    y = np.random.randint(0, 3, 1000)  # 3 classes\n",
    "    \n",
    "    X_train, X_test, y_train, y_test = train_test_split(X, y, test_size=0.2)\n",
    "    \n",
    "    # Train model with the current config\n",
    "    model = RandomForestClassifier(\n",
    "        n_estimators=config.n_estimators,\n",
    "        max_depth=config.max_depth,\n",
    "        min_samples_split=config.min_samples_split,\n",
    "        random_state=42\n",
    "    )\n",
    "    \n",
    "    model.fit(X_train, y_train)\n",
    "    accuracy = accuracy_score(y_test, model.predict(X_test))\n",
    "    \n",
    "    # Log the accuracy\n",
    "    wandb.log({\"accuracy\": accuracy})\n",
    "\n",
    "# Define the sweep configuration\n",
    "sweep_config = {\n",
    "    'method': 'bayes',  # Use Bayesian optimization\n",
    "    'metric': {\n",
    "        'name': 'accuracy',  # Metric to optimize\n",
    "        'goal': 'maximize'   # We want to maximize accuracy\n",
    "    },\n",
    "    'parameters': {\n",
    "        'n_estimators': {\n",
    "            'values': [10, 50, 100, 200]\n",
    "        },\n",
    "        'max_depth': {\n",
    "            'min': 3,\n",
    "            'max': 20\n",
    "        },\n",
    "        'min_samples_split': {\n",
    "            'values': [2, 5, 10]\n",
    "        }\n",
    "    }\n",
    "}\n",
    "\n",
    "# Initialize the sweep\n",
    "# \"\"\"\n",
    "sweep_id = wandb.sweep(sweep_config, project=\"mars-crater-detection-sweep\")\n",
    "\n",
    "# Run the sweep\n",
    "wandb.agent(sweep_id, function=train_with_config, count=10)  # Run 10 experiments\n",
    "# \"\"\"\n",
    "\n",
    "# For demo purposes, instead of the sweep, let's just show some sample results\n",
    "print(\"Sweep results would appear in your W&B dashboard\")\n",
    "print(\"You would see charts comparing different hyperparameter combinations\")"
   ]
  },
  {
   "cell_type": "markdown",
   "metadata": {},
   "source": [
    "## 5. Visualizing Results in the W&B Dashboard\n",
    "\n",
    "After running experiments, you can view and analyze results in the W&B dashboard.\n",
    "\n",
    "```python\n",
    "# No code needed here - this is done through the W&B web interface\n",
    "print(\"Visit your W&B dashboard at https://wandb.ai/your-username to see:\")\n",
    "print(\"- All your experiments in one place\")\n",
    "print(\"- Interactive charts for metrics\")\n",
    "print(\"- Parallel coordinates plot for hyperparameter comparison\")\n",
    "print(\"- Shared reports for your team or class\")\n",
    "```\n",
    "\n",
    "## 6. Tracking Custom Planetary Science Metrics\n",
    "\n",
    "For science applications, you might want to track domain-specific metrics."
   ]
  },
  {
   "cell_type": "code",
   "execution_count": 6,
   "metadata": {},
   "outputs": [
    {
     "data": {
      "text/html": [
       "Changes to your `wandb` environment variables will be ignored because your `wandb` session has already started. For more information on how to modify your settings with `wandb.init()` arguments, please refer to <a href='https://wandb.me/wandb-init' target=\"_blank\">the W&B docs</a>."
      ],
      "text/plain": [
       "<IPython.core.display.HTML object>"
      ]
     },
     "metadata": {},
     "output_type": "display_data"
    },
    {
     "name": "stderr",
     "output_type": "stream",
     "text": [
      "\u001b[34m\u001b[1mwandb\u001b[0m: \u001b[33mWARNING\u001b[0m Ignored wandb.init() arg project when running a sweep.\n"
     ]
    },
    {
     "data": {
      "text/html": [
       "Tracking run with wandb version 0.18.5"
      ],
      "text/plain": [
       "<IPython.core.display.HTML object>"
      ]
     },
     "metadata": {},
     "output_type": "display_data"
    },
    {
     "data": {
      "text/html": [
       "Run data is saved locally in <code>/Users/phillipsm/Documents/Teaching/AI_in_PlanetaryXXX/Code/04_NN_Image_Classification/notebooks/wandb/run-20250402_093100-hvfjtch2</code>"
      ],
      "text/plain": [
       "<IPython.core.display.HTML object>"
      ]
     },
     "metadata": {},
     "output_type": "display_data"
    },
    {
     "data": {
      "text/html": [
       "Syncing run <strong><a href='https://wandb.ai/space-imagery-center/mars-crater-detection-sweep/runs/hvfjtch2' target=\"_blank\">deft-sweep-10</a></strong> to <a href='https://wandb.ai/space-imagery-center/mars-crater-detection-sweep' target=\"_blank\">Weights & Biases</a> (<a href='https://wandb.me/run' target=\"_blank\">docs</a>)<br/>Sweep page: <a href='https://wandb.ai/space-imagery-center/mars-crater-detection-sweep/sweeps/cjg4hivq' target=\"_blank\">https://wandb.ai/space-imagery-center/mars-crater-detection-sweep/sweeps/cjg4hivq</a>"
      ],
      "text/plain": [
       "<IPython.core.display.HTML object>"
      ]
     },
     "metadata": {},
     "output_type": "display_data"
    },
    {
     "data": {
      "text/html": [
       " View project at <a href='https://wandb.ai/space-imagery-center/mars-crater-detection-sweep' target=\"_blank\">https://wandb.ai/space-imagery-center/mars-crater-detection-sweep</a>"
      ],
      "text/plain": [
       "<IPython.core.display.HTML object>"
      ]
     },
     "metadata": {},
     "output_type": "display_data"
    },
    {
     "data": {
      "text/html": [
       " View sweep at <a href='https://wandb.ai/space-imagery-center/mars-crater-detection-sweep/sweeps/cjg4hivq' target=\"_blank\">https://wandb.ai/space-imagery-center/mars-crater-detection-sweep/sweeps/cjg4hivq</a>"
      ],
      "text/plain": [
       "<IPython.core.display.HTML object>"
      ]
     },
     "metadata": {},
     "output_type": "display_data"
    },
    {
     "data": {
      "text/html": [
       " View run at <a href='https://wandb.ai/space-imagery-center/mars-crater-detection-sweep/runs/hvfjtch2' target=\"_blank\">https://wandb.ai/space-imagery-center/mars-crater-detection-sweep/runs/hvfjtch2</a>"
      ],
      "text/plain": [
       "<IPython.core.display.HTML object>"
      ]
     },
     "metadata": {},
     "output_type": "display_data"
    },
    {
     "data": {
      "application/vnd.jupyter.widget-view+json": {
       "model_id": "f84195485394482b818a5550b1963885",
       "version_major": 2,
       "version_minor": 0
      },
      "text/plain": [
       "VBox(children=(Label(value='0.094 MB of 0.094 MB uploaded\\r'), FloatProgress(value=1.0, max=1.0)))"
      ]
     },
     "metadata": {},
     "output_type": "display_data"
    },
    {
     "data": {
      "text/html": [
       " View run <strong style=\"color:#cdcd00\">deft-sweep-10</strong> at: <a href='https://wandb.ai/space-imagery-center/mars-crater-detection-sweep/runs/hvfjtch2' target=\"_blank\">https://wandb.ai/space-imagery-center/mars-crater-detection-sweep/runs/hvfjtch2</a><br/> View project at: <a href='https://wandb.ai/space-imagery-center/mars-crater-detection-sweep' target=\"_blank\">https://wandb.ai/space-imagery-center/mars-crater-detection-sweep</a><br/>Synced 5 W&B file(s), 0 media file(s), 4 artifact file(s) and 2 other file(s)"
      ],
      "text/plain": [
       "<IPython.core.display.HTML object>"
      ]
     },
     "metadata": {},
     "output_type": "display_data"
    },
    {
     "data": {
      "text/html": [
       "Find logs at: <code>./wandb/run-20250402_093100-hvfjtch2/logs</code>"
      ],
      "text/plain": [
       "<IPython.core.display.HTML object>"
      ]
     },
     "metadata": {},
     "output_type": "display_data"
    }
   ],
   "source": [
    "def planetary_metrics_example():\n",
    "    run = wandb.init(project=\"mars-rover-path-planning\")\n",
    "    \n",
    "    # Simulate a rover path planning experiment\n",
    "    # In a real scenario, you would use your actual ML model and data\n",
    "    \n",
    "    # Log a custom table of detected features\n",
    "    feature_data = []\n",
    "    for i in range(10):\n",
    "        feature_data.append([\n",
    "            f\"feature_{i}\",                               # Feature ID\n",
    "            np.random.choice([\"crater\", \"rock\", \"dune\"]), # Feature type\n",
    "            np.random.uniform(10, 100),                   # Size (m)\n",
    "            np.random.uniform(0.1, 0.9),                  # Detection confidence\n",
    "            np.random.uniform(-5, 5),                     # Position X (km)\n",
    "            np.random.uniform(-5, 5)                      # Position Y (km)\n",
    "        ])\n",
    "    \n",
    "    # Create a W&B Table\n",
    "    feature_table = wandb.Table(\n",
    "        columns=[\"feature_id\", \"type\", \"size_m\", \"confidence\", \"pos_x_km\", \"pos_y_km\"],\n",
    "        data=feature_data\n",
    "    )\n",
    "    \n",
    "    # Log the table\n",
    "    wandb.log({\"detected_features\": feature_table})\n",
    "    \n",
    "    # Log a simulated path planning map\n",
    "    fig, ax = plt.subplots(figsize=(10, 10))\n",
    "    \n",
    "    # Plot a simulated terrain with random elevation\n",
    "    terrain = np.random.rand(100, 100)\n",
    "    terrain = np.convolve(terrain.flatten(), np.ones(50)/50, mode='same').reshape(100, 100)\n",
    "    im = ax.imshow(terrain, cmap='terrain', extent=[-5, 5, -5, 5])\n",
    "    plt.colorbar(im, ax=ax, label='Elevation (m)')\n",
    "    \n",
    "    # Plot a simulated optimal path\n",
    "    path_x = np.linspace(-4, 4, 20) + 0.3 * np.random.randn(20)\n",
    "    path_y = np.sin(path_x) + 0.5 * np.random.randn(20)\n",
    "    ax.plot(path_x, path_y, 'r-', linewidth=2, label='Planned path')\n",
    "    \n",
    "    # Add start and end points\n",
    "    ax.plot(path_x[0], path_y[0], 'go', markersize=10, label='Start')\n",
    "    ax.plot(path_x[-1], path_y[-1], 'ro', markersize=10, label='Goal')\n",
    "    \n",
    "    ax.set_xlabel('X position (km)')\n",
    "    ax.set_ylabel('Y position (km)')\n",
    "    ax.set_title('Rover Path Planning')\n",
    "    ax.legend()\n",
    "    \n",
    "    # Log the figure\n",
    "    wandb.log({\"path_planning_map\": wandb.Image(fig)})\n",
    "    plt.close()\n",
    "    \n",
    "    run.finish()\n",
    "\n",
    "# Run the planetary science metrics example\n",
    "planetary_metrics_example()"
   ]
  },
  {
   "cell_type": "markdown",
   "metadata": {},
   "source": [
    "## 7. Collaborating\n",
    "\n",
    "W&B makes it easy to share results.\n",
    "\n",
    "```python\n",
    "# Create a shared project (no code needed, done through the W&B interface)\n",
    "print(\"To collaborate with your team:\")\n",
    "print(\"1. Add team members to your W&B project\")\n",
    "print(\"2. Create a shared report with your key findings\")\n",
    "print(\"3. Share the report URL\")\n",
    "```\n",
    "\n",
    "## 8. Best Practices\n",
    "\n",
    "```python\n",
    "# Some tips for effectively using W&B in projects\n",
    "\n",
    "print(\"Best Practices for W&B in Planetary Science:\")\n",
    "print(\"1. Always log your data preprocessing steps in config\")\n",
    "print(\"2. Track physical units of your data in config (e.g., wavelengths in nm)\")\n",
    "print(\"3. Create visualizations (e.g., spectral plots, spatial maps)\")\n",
    "print(\"4. Organize runs into meaningful projects (e.g., by mission, by instrument, by research question)\")\n",
    "print(\"5. Add detailed descriptions to your artifacts (e.g., model, dataset)\")\n",
    "print(\"6. Create reports to document your findings for your research group\")\n",
    "```"
   ]
  },
  {
   "cell_type": "markdown",
   "metadata": {},
   "source": []
  }
 ],
 "metadata": {
  "kernelspec": {
   "display_name": "cnn",
   "language": "python",
   "name": "python3"
  },
  "language_info": {
   "codemirror_mode": {
    "name": "ipython",
    "version": 3
   },
   "file_extension": ".py",
   "mimetype": "text/x-python",
   "name": "python",
   "nbconvert_exporter": "python",
   "pygments_lexer": "ipython3",
   "version": "3.12.6"
  }
 },
 "nbformat": 4,
 "nbformat_minor": 2
}
